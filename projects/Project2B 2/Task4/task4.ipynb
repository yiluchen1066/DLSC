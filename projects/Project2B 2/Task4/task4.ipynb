{
 "cells": [
  {
   "cell_type": "code",
   "execution_count": 2,
   "metadata": {},
   "outputs": [
    {
     "name": "stderr",
     "output_type": "stream",
     "text": [
      "\n",
      "Bad key \"text.kerning_factor\" on line 4 in\n",
      "/Users/chenyilu/anaconda3/lib/python3.7/site-packages/matplotlib/mpl-data/stylelib/_classic_test_patch.mplstyle.\n",
      "You probably need to get an updated matplotlibrc file from\n",
      "https://github.com/matplotlib/matplotlib/blob/v3.1.3/matplotlibrc.template\n",
      "or from the matplotlib source distribution\n"
     ]
    }
   ],
   "source": [
    "import torch\n",
    "import torch.nn as nn\n",
    "import torch.optim as optim\n",
    "import torch.utils\n",
    "import torch.utils.data\n",
    "from torch.utils.data import DataLoader\n",
    "import matplotlib.pyplot as plt\n",
    "import numpy as np\n",
    "import pandas as pd\n",
    "from sklearn import preprocessing"
   ]
  },
  {
   "cell_type": "markdown",
   "metadata": {},
   "source": [
    "task 4a"
   ]
  },
  {
   "cell_type": "code",
   "execution_count": 3,
   "metadata": {},
   "outputs": [],
   "source": [
    "data_measurement = pd.read_csv(\"MeasuredData.txt\", sep=\" \")\n",
    "data_measurement = pd.DataFrame(data_measurement)"
   ]
  },
  {
   "cell_type": "code",
   "execution_count": 4,
   "metadata": {},
   "outputs": [
    {
     "name": "stdout",
     "output_type": "stream",
     "text": [
      "     0.000000000000000000e+00  1.010196822559244811e+00\n",
      "0                     0.00025                  0.988396\n",
      "1                     0.00050                  0.985788\n",
      "2                     0.00075                  1.011550\n",
      "3                     0.00100                  0.998813\n",
      "4                     0.00125                  1.007082\n",
      "..                        ...                       ...\n",
      "616                   0.24900                  3.478459\n",
      "617                   0.24925                  3.900490\n",
      "618                   0.24950                  4.192470\n",
      "619                   0.24975                  3.739064\n",
      "620                   0.25000                  3.970118\n",
      "\n",
      "[621 rows x 2 columns]\n"
     ]
    }
   ],
   "source": [
    "print(data_measurement)"
   ]
  },
  {
   "cell_type": "code",
   "execution_count": 5,
   "metadata": {},
   "outputs": [],
   "source": [
    "t = data_measurement.iloc[:,0]\n",
    "Tf = data_measurement.iloc[:,1]"
   ]
  },
  {
   "cell_type": "code",
   "execution_count": 6,
   "metadata": {},
   "outputs": [
    {
     "data": {
      "image/png": "[encoded data removed]",
      "text/plain": [
       "<Figure size 432x288 with 1 Axes>"
      ]
     },
     "metadata": {
      "needs_background": "light"
     },
     "output_type": "display_data"
    }
   ],
   "source": [
    "plt.scatter(t, Tf, c=\"Blue\")\n",
    "plt.show()"
   ]
  },
  {
   "cell_type": "markdown",
   "metadata": {},
   "source": [
    "4a: the measurements' noise is a function of time t\n",
    "make use of the measured data to infer the map and provide predictions of the standard deviation on the data stored in the file Task4/TestingDataA.txt. "
   ]
  },
  {
   "cell_type": "code",
   "execution_count": 7,
   "metadata": {},
   "outputs": [],
   "source": [
    "data_measurement1 = data_measurement[data_measurement.iloc[:,1] < 1.5] \n",
    "data_measurement2 = data_measurement[data_measurement.iloc[:,1] > 1.5]"
   ]
  },
  {
   "cell_type": "code",
   "execution_count": 8,
   "metadata": {},
   "outputs": [
    {
     "name": "stdout",
     "output_type": "stream",
     "text": [
      "    0.000000000000000000e+00  1.010196822559244811e+00\n",
      "0                    0.00025                  0.988396\n",
      "1                    0.00050                  0.985788\n",
      "2                    0.00075                  1.011550\n",
      "3                    0.00100                  0.998813\n",
      "4                    0.00125                  1.007082\n",
      "5                    0.00150                  0.993155\n",
      "6                    0.00175                  1.015967\n",
      "7                    0.00200                  0.985012\n",
      "8                    0.00225                  0.986389\n",
      "9                    0.00250                  1.014324\n",
      "10                   0.00275                  0.973870\n",
      "11                   0.00300                  1.003826\n",
      "12                   0.00325                  0.998905\n",
      "13                   0.00350                  0.992420\n",
      "14                   0.00375                  0.997922\n",
      "15                   0.00400                  0.991107\n",
      "16                   0.00425                  1.016332\n",
      "17                   0.00450                  1.019286\n",
      "18                   0.00475                  0.992604\n",
      "19                   0.00500                  1.002999\n",
      "20                   0.00525                  0.985446\n",
      "21                   0.00550                  1.011893\n",
      "22                   0.00575                  1.011709\n",
      "23                   0.00600                  0.996668\n",
      "24                   0.00625                  1.000192\n",
      "25                   0.00650                  0.998923\n",
      "26                   0.00675                  0.981245\n",
      "27                   0.00700                  1.018074\n",
      "28                   0.00725                  0.990955\n",
      "29                   0.00750                  0.990957\n",
      "30                   0.00775                  0.998195\n",
      "31                   0.00800                  1.012050\n",
      "32                   0.00825                  0.992781\n",
      "33                   0.00850                  0.975961\n",
      "34                   0.00875                  0.988984\n",
      "35                   0.00900                  1.005313\n",
      "36                   0.00925                  1.027660\n",
      "37                   0.00950                  0.983950\n",
      "38                   0.00975                  0.983345\n",
      "39                   0.01000                  0.980407\n",
      "40                   0.01025                  0.978622\n",
      "41                   0.01050                  1.015879\n",
      "42                   0.01075                  1.019849\n",
      "43                   0.01100                  1.002380\n",
      "44                   0.01125                  0.993686\n",
      "45                   0.01150                  1.024376\n",
      "46                   0.01175                  1.002386\n",
      "47                   0.01200                  1.015069\n",
      "48                   0.01225                  0.992799\n",
      "49                   0.01250                  1.000622\n",
      "50                   0.01275                  0.982469\n",
      "51                   0.01300                  1.008986\n",
      "52                   0.01325                  1.002749\n",
      "53                   0.01350                  0.987021\n",
      "54                   0.01375                  0.987115\n",
      "55                   0.01400                  1.023816\n",
      "56                   0.01425                  1.029286\n",
      "57                   0.01450                  0.996809\n",
      "58                   0.01475                  1.001022\n",
      "59                   0.01500                  1.006083\n",
      "     0.000000000000000000e+00  1.010196822559244811e+00\n",
      "60                    0.11000                  3.430800\n",
      "61                    0.11025                  3.408009\n",
      "62                    0.11050                  3.140257\n",
      "63                    0.11075                  3.457520\n",
      "64                    0.11100                  3.354813\n",
      "..                        ...                       ...\n",
      "616                   0.24900                  3.478459\n",
      "617                   0.24925                  3.900490\n",
      "618                   0.24950                  4.192470\n",
      "619                   0.24975                  3.739064\n",
      "620                   0.25000                  3.970118\n",
      "\n",
      "[561 rows x 2 columns]\n"
     ]
    }
   ],
   "source": [
    "print(data_measurement1)\n",
    "print(data_measurement2)"
   ]
  },
  {
   "cell_type": "code",
   "execution_count": 9,
   "metadata": {},
   "outputs": [
    {
     "name": "stdout",
     "output_type": "stream",
     "text": [
      "(60, 2)\n",
      "(561, 2)\n"
     ]
    }
   ],
   "source": [
    "print(data_measurement1.shape)\n",
    "print(data_measurement2.shape)"
   ]
  },
  {
   "cell_type": "code",
   "execution_count": 10,
   "metadata": {},
   "outputs": [],
   "source": [
    "standard_deviation1 = np.zeros(50)\n",
    "standard_deviation2 = np.zeros(551)"
   ]
  },
  {
   "cell_type": "code",
   "execution_count": 11,
   "metadata": {},
   "outputs": [],
   "source": [
    "for i in range(5,55,1):\n",
    "    standard_deviation1[i-5] = data_measurement1.iloc[i-5: i+6,1].std()\n"
   ]
  },
  {
   "cell_type": "code",
   "execution_count": 12,
   "metadata": {},
   "outputs": [],
   "source": [
    "for i in range(5, 556,1): \n",
    "    standard_deviation2[i-5] = data_measurement2.iloc[i-5:i+6, 1].std()\n"
   ]
  },
  {
   "cell_type": "code",
   "execution_count": 13,
   "metadata": {},
   "outputs": [
    {
     "name": "stdout",
     "output_type": "stream",
     "text": [
      "[0.01406528 0.01395674 0.0133763  0.0128117  0.01280365 0.01246859\n",
      " 0.01387152 0.01433393 0.01381266 0.01321307 0.01302138 0.01094337\n",
      " 0.01138477 0.01146282 0.01106833 0.01103206 0.0123677  0.01258478\n",
      " 0.01148365 0.01158787 0.01151259 0.01127205 0.01088945 0.01206968\n",
      " 0.01224819 0.01254631 0.01583112 0.01555694 0.01471662 0.01536933\n",
      " 0.01608767 0.01744263 0.01834046 0.01841565 0.01716427 0.0185292\n",
      " 0.01848846 0.01701323 0.01637599 0.01532962 0.01504405 0.01283664\n",
      " 0.01235795 0.01214296 0.01283937 0.01451976 0.01531361 0.0154256\n",
      " 0.01484532 0.01463652]\n",
      "[0.08725021 0.08593037 0.13432139 0.1163463  0.11515952 0.1214761\n",
      " 0.12275142 0.12331644 0.12138854 0.11566314 0.11267166 0.11390255\n",
      " 0.115952   0.07937668 0.09112857 0.08860074 0.07950814 0.08214768\n",
      " 0.08447866 0.0851053  0.08561662 0.10439171 0.10689267 0.09643092\n",
      " 0.09644477 0.09746609 0.09556031 0.09576804 0.10063574 0.09862846\n",
      " 0.09978066 0.10155468 0.09487431 0.08763612 0.07987562 0.08141822\n",
      " 0.07888228 0.08114673 0.08887113 0.08072516 0.08241184 0.0917125\n",
      " 0.08757294 0.08948873 0.09197745 0.09180138 0.09053176 0.08995063\n",
      " 0.08866028 0.10046615 0.11332437 0.10230904 0.08158203 0.084951\n",
      " 0.08427228 0.09057915 0.12367126 0.15493982 0.15411555 0.15332994\n",
      " 0.13992696 0.12003205 0.11828546 0.11604372 0.1166273  0.11158801\n",
      " 0.12355225 0.10780188 0.06963693 0.07231439 0.08913848 0.08397076\n",
      " 0.09604278 0.0969729  0.09751303 0.09697917 0.09651692 0.09956015\n",
      " 0.11095149 0.12230277 0.11955416 0.0997314  0.09858412 0.0960611\n",
      " 0.11723069 0.12415972 0.1254702  0.12395783 0.09504462 0.09450046\n",
      " 0.09264202 0.08121827 0.08879338 0.09228293 0.10630538 0.0904369\n",
      " 0.08103573 0.08536726 0.08246417 0.06841718 0.10491069 0.11261591\n",
      " 0.14193947 0.14098239 0.15120898 0.15448075 0.15568133 0.15581035\n",
      " 0.1561998  0.15519899 0.16131861 0.14469997 0.13847635 0.10330968\n",
      " 0.11181933 0.10417168 0.09573268 0.09581917 0.09479362 0.08474646\n",
      " 0.08343747 0.0738366  0.09188525 0.09367968 0.09558875 0.10588142\n",
      " 0.09200479 0.08895452 0.09775076 0.10296867 0.10951076 0.10906859\n",
      " 0.11015972 0.09766859 0.11281964 0.11934206 0.10230492 0.11523292\n",
      " 0.11799603 0.12945122 0.12893086 0.12980041 0.1566035  0.15305103\n",
      " 0.14993837 0.12317755 0.12405144 0.14694101 0.14279907 0.14276022\n",
      " 0.12021144 0.12121035 0.13362619 0.11550052 0.12868776 0.16394545\n",
      " 0.17263338 0.17380614 0.16762231 0.17235972 0.16791472 0.15982308\n",
      " 0.16186601 0.16099408 0.16116287 0.1687782  0.13982775 0.11867663\n",
      " 0.12775819 0.12334513 0.13114888 0.13064489 0.13169139 0.11581501\n",
      " 0.11779521 0.11850648 0.10922814 0.10493402 0.10434589 0.09676303\n",
      " 0.08576908 0.08966527 0.09812886 0.0984721  0.10591421 0.11274032\n",
      " 0.11149828 0.11115399 0.11167687 0.12279331 0.1217815  0.12086947\n",
      " 0.14969086 0.14449281 0.14593313 0.14334831 0.14503083 0.16986949\n",
      " 0.19020994 0.19447961 0.17398496 0.17742753 0.17326551 0.16070268\n",
      " 0.16517763 0.16581834 0.17203852 0.16100118 0.12593567 0.10083652\n",
      " 0.09471805 0.08807781 0.08705102 0.07392701 0.11665482 0.11548969\n",
      " 0.11345794 0.10742352 0.11139888 0.11312649 0.10976779 0.14128235\n",
      " 0.15720117 0.15928271 0.17054408 0.1462937  0.14582781 0.14305822\n",
      " 0.16524498 0.16563891 0.15203223 0.15344642 0.14043986 0.13906307\n",
      " 0.14064983 0.11997755 0.11855777 0.139592   0.1394843  0.16247137\n",
      " 0.15841343 0.18832755 0.19242266 0.21677267 0.21542378 0.21673517\n",
      " 0.22608073 0.23120511 0.20451718 0.20622702 0.15845813 0.17849581\n",
      " 0.16921692 0.16978376 0.1697042  0.1768803  0.16680052 0.20655486\n",
      " 0.21171767 0.21559595 0.20880255 0.21746057 0.20870559 0.21119438\n",
      " 0.20805308 0.18235944 0.17811508 0.17141781 0.14659939 0.14091222\n",
      " 0.14219752 0.13709771 0.08818263 0.08834562 0.09745689 0.10509287\n",
      " 0.12200606 0.13292521 0.13437744 0.1324467  0.13668448 0.12464163\n",
      " 0.16382839 0.17136834 0.17189721 0.17500885 0.17267816 0.1569041\n",
      " 0.17647567 0.18759328 0.2184343  0.21841263 0.2795238  0.27197936\n",
      " 0.29101109 0.30679818 0.34748575 0.34844387 0.35089813 0.34111922\n",
      " 0.34723045 0.32283534 0.32189908 0.27952721 0.27340195 0.23132832\n",
      " 0.2249931  0.17091    0.16778899 0.1859405  0.18723197 0.15569518\n",
      " 0.12594273 0.12541838 0.11967267 0.12595199 0.11857206 0.11368096\n",
      " 0.12516141 0.12646114 0.10996382 0.1311751  0.14362878 0.16115023\n",
      " 0.17768611 0.18380683 0.17958978 0.18103383 0.18335345 0.17390394\n",
      " 0.17437452 0.18396154 0.15713188 0.16388113 0.16794894 0.17350278\n",
      " 0.17492677 0.17922527 0.19181711 0.20883818 0.23498016 0.23612807\n",
      " 0.2211902  0.22280175 0.25908688 0.24215938 0.24347888 0.24993899\n",
      " 0.24695344 0.23328222 0.22054471 0.18886872 0.20854678 0.23264636\n",
      " 0.23447656 0.18887426 0.18648935 0.19216158 0.18180535 0.19296862\n",
      " 0.18528234 0.18751407 0.19754047 0.15191544 0.15625388 0.15502787\n",
      " 0.16089389 0.16071196 0.16648032 0.1715786  0.17138129 0.23793497\n",
      " 0.25894567 0.25587327 0.25532566 0.24320088 0.24293273 0.24055226\n",
      " 0.29468517 0.28600846 0.2877036  0.27785958 0.20665954 0.19898645\n",
      " 0.23744762 0.2665654  0.26651373 0.26701707 0.2605081  0.21638339\n",
      " 0.22627301 0.22764447 0.24170343 0.25324664 0.25299393 0.21145412\n",
      " 0.18963852 0.185833   0.17257776 0.17294788 0.18086812 0.19810078\n",
      " 0.20206337 0.16893059 0.17475329 0.17351943 0.16464821 0.18017643\n",
      " 0.19304549 0.24440552 0.24040506 0.21586588 0.2235213  0.23561326\n",
      " 0.22955663 0.23301036 0.24168456 0.24158968 0.24249581 0.24818355\n",
      " 0.1648431  0.16757877 0.17140467 0.18157083 0.18834711 0.2418713\n",
      " 0.24142714 0.24392517 0.21955406 0.24911039 0.24534502 0.2406186\n",
      " 0.23066588 0.23082214 0.22514953 0.23644201 0.18970326 0.21082078\n",
      " 0.20956917 0.25117847 0.22552314 0.22564435 0.22625532 0.22334504\n",
      " 0.22084972 0.20751718 0.21245671 0.25211434 0.25575242 0.25406568\n",
      " 0.20635024 0.20906426 0.25237831 0.2520516  0.25182346 0.2541727\n",
      " 0.25268679 0.24983111 0.20347896 0.17980627 0.22086283 0.22099968\n",
      " 0.2801242  0.33861906 0.34728356 0.37984853 0.39451579 0.39588852\n",
      " 0.38127528 0.37956128 0.37679956 0.4233128  0.45193905 0.43090348\n",
      " 0.39737008 0.39228915 0.37041275 0.36712379 0.37401483 0.38031104\n",
      " 0.37926425 0.38640133 0.34632167 0.36522156 0.34698574 0.32971868\n",
      " 0.33064252 0.32677513 0.32244056 0.32681056 0.29674723 0.27350054\n",
      " 0.32960696 0.30585623 0.2615457  0.27518042 0.26434696 0.29029153\n",
      " 0.28802845 0.27956722 0.28150345 0.33736573 0.32943015 0.31342777\n",
      " 0.31227643 0.31021761 0.288095   0.29562528 0.34367235 0.32761261\n",
      " 0.34038722 0.33962235 0.29313638 0.28884625 0.25975998 0.26003947\n",
      " 0.25639696 0.27221412 0.27549279 0.2693661  0.26656883 0.29716191\n",
      " 0.27931131 0.27912303 0.29144702 0.27518944 0.28248545 0.27563723\n",
      " 0.28182361 0.28260862 0.28236762 0.34592067 0.33104062 0.34824454\n",
      " 0.36243832 0.36654231 0.36642912 0.35152648 0.35376058 0.34037314\n",
      " 0.33356785 0.21120627 0.23070136 0.23508417 0.22495534 0.22842356\n",
      " 0.21721485 0.23147426 0.28521619 0.28280308 0.26883268]\n",
      "(50,)\n",
      "(551,)\n"
     ]
    }
   ],
   "source": [
    "print(standard_deviation1)\n",
    "print(standard_deviation2)\n",
    "print(standard_deviation1.shape)\n",
    "print(standard_deviation2.shape)"
   ]
  },
  {
   "cell_type": "code",
   "execution_count": 14,
   "metadata": {},
   "outputs": [],
   "source": [
    "t1 = data_measurement1.iloc[5:55,0]\n",
    "t2 = data_measurement2.iloc[5:556,0]"
   ]
  },
  {
   "cell_type": "code",
   "execution_count": 15,
   "metadata": {},
   "outputs": [
    {
     "name": "stdout",
     "output_type": "stream",
     "text": [
      "5     0.00150\n",
      "6     0.00175\n",
      "7     0.00200\n",
      "8     0.00225\n",
      "9     0.00250\n",
      "10    0.00275\n",
      "11    0.00300\n",
      "12    0.00325\n",
      "13    0.00350\n",
      "14    0.00375\n",
      "15    0.00400\n",
      "16    0.00425\n",
      "17    0.00450\n",
      "18    0.00475\n",
      "19    0.00500\n",
      "20    0.00525\n",
      "21    0.00550\n",
      "22    0.00575\n",
      "23    0.00600\n",
      "24    0.00625\n",
      "25    0.00650\n",
      "26    0.00675\n",
      "27    0.00700\n",
      "28    0.00725\n",
      "29    0.00750\n",
      "30    0.00775\n",
      "31    0.00800\n",
      "32    0.00825\n",
      "33    0.00850\n",
      "34    0.00875\n",
      "35    0.00900\n",
      "36    0.00925\n",
      "37    0.00950\n",
      "38    0.00975\n",
      "39    0.01000\n",
      "40    0.01025\n",
      "41    0.01050\n",
      "42    0.01075\n",
      "43    0.01100\n",
      "44    0.01125\n",
      "45    0.01150\n",
      "46    0.01175\n",
      "47    0.01200\n",
      "48    0.01225\n",
      "49    0.01250\n",
      "50    0.01275\n",
      "51    0.01300\n",
      "52    0.01325\n",
      "53    0.01350\n",
      "54    0.01375\n",
      "Name: 0.000000000000000000e+00, dtype: float64\n",
      "65     0.11125\n",
      "66     0.11150\n",
      "67     0.11175\n",
      "68     0.11200\n",
      "69     0.11225\n",
      "        ...   \n",
      "611    0.24775\n",
      "612    0.24800\n",
      "613    0.24825\n",
      "614    0.24850\n",
      "615    0.24875\n",
      "Name: 0.000000000000000000e+00, Length: 551, dtype: float64\n"
     ]
    }
   ],
   "source": [
    "print(t1)\n",
    "print(t2)"
   ]
  },
  {
   "cell_type": "code",
   "execution_count": 26,
   "metadata": {},
   "outputs": [
    {
     "data": {
      "text/plain": [
       "pandas.core.series.Series"
      ]
     },
     "execution_count": 26,
     "metadata": {},
     "output_type": "execute_result"
    }
   ],
   "source": []
  },
  {
   "cell_type": "code",
   "execution_count": 16,
   "metadata": {},
   "outputs": [],
   "source": [
    "t1 = t1.to_numpy()\n",
    "t2 = t2.to_numpy()"
   ]
  },
  {
   "cell_type": "code",
   "execution_count": 28,
   "metadata": {},
   "outputs": [
    {
     "data": {
      "text/plain": [
       "numpy.ndarray"
      ]
     },
     "execution_count": 28,
     "metadata": {},
     "output_type": "execute_result"
    }
   ],
   "source": [
    "type(t)"
   ]
  },
  {
   "cell_type": "code",
   "execution_count": 150,
   "metadata": {},
   "outputs": [
    {
     "data": {
      "text/plain": [
       "numpy.ndarray"
      ]
     },
     "execution_count": 150,
     "metadata": {},
     "output_type": "execute_result"
    }
   ],
   "source": [
    "type(standard_deviation1)\n",
    "type(standard_deviation2)"
   ]
  },
  {
   "cell_type": "code",
   "execution_count": 17,
   "metadata": {},
   "outputs": [],
   "source": [
    "sd1 = np.vstack((np.array(t1), np.array(standard_deviation1)))\n",
    "sd2 = np.vstack((np.array(t2), np.array(standard_deviation2)))"
   ]
  },
  {
   "cell_type": "code",
   "execution_count": 18,
   "metadata": {},
   "outputs": [
    {
     "name": "stdout",
     "output_type": "stream",
     "text": [
      "[[0.0015     0.00175    0.002      0.00225    0.0025     0.00275\n",
      "  0.003      0.00325    0.0035     0.00375    0.004      0.00425\n",
      "  0.0045     0.00475    0.005      0.00525    0.0055     0.00575\n",
      "  0.006      0.00625    0.0065     0.00675    0.007      0.00725\n",
      "  0.0075     0.00775    0.008      0.00825    0.0085     0.00875\n",
      "  0.009      0.00925    0.0095     0.00975    0.01       0.01025\n",
      "  0.0105     0.01075    0.011      0.01125    0.0115     0.01175\n",
      "  0.012      0.01225    0.0125     0.01275    0.013      0.01325\n",
      "  0.0135     0.01375   ]\n",
      " [0.01406528 0.01395674 0.0133763  0.0128117  0.01280365 0.01246859\n",
      "  0.01387152 0.01433393 0.01381266 0.01321307 0.01302138 0.01094337\n",
      "  0.01138477 0.01146282 0.01106833 0.01103206 0.0123677  0.01258478\n",
      "  0.01148365 0.01158787 0.01151259 0.01127205 0.01088945 0.01206968\n",
      "  0.01224819 0.01254631 0.01583112 0.01555694 0.01471662 0.01536933\n",
      "  0.01608767 0.01744263 0.01834046 0.01841565 0.01716427 0.0185292\n",
      "  0.01848846 0.01701323 0.01637599 0.01532962 0.01504405 0.01283664\n",
      "  0.01235795 0.01214296 0.01283937 0.01451976 0.01531361 0.0154256\n",
      "  0.01484532 0.01463652]]\n",
      "(2, 50)\n"
     ]
    }
   ],
   "source": [
    "print(sd1)\n",
    "print(sd1.shape)\n",
    "\n"
   ]
  },
  {
   "cell_type": "code",
   "execution_count": 19,
   "metadata": {},
   "outputs": [
    {
     "name": "stdout",
     "output_type": "stream",
     "text": [
      "[[0.11125    0.1115     0.11175    ... 0.24825    0.2485     0.24875   ]\n",
      " [0.08725021 0.08593037 0.13432139 ... 0.28521619 0.28280308 0.26883268]]\n",
      "(2, 551)\n"
     ]
    }
   ],
   "source": [
    "print(sd2)\n",
    "print(sd2.shape)"
   ]
  },
  {
   "cell_type": "code",
   "execution_count": 20,
   "metadata": {},
   "outputs": [
    {
     "name": "stdout",
     "output_type": "stream",
     "text": [
      "(50,)\n",
      "(551,)\n",
      "(50,)\n",
      "(551,)\n"
     ]
    }
   ],
   "source": [
    "import numpy as np \n",
    "from sklearn.linear_model import LinearRegression \n",
    "t11 = sd1[0,:]\n",
    "sd11 = sd1[1,:]\n",
    "t22 = sd2[0,:]\n",
    "sd22 = sd2[1,:]\n",
    "print(t11.shape)\n",
    "print(t22.shape)\n",
    "print(sd11.shape)\n",
    "print(sd22.shape)"
   ]
  },
  {
   "cell_type": "code",
   "execution_count": 21,
   "metadata": {},
   "outputs": [],
   "source": [
    "reg1 = LinearRegression().fit(t11.reshape(-1,1), sd11.reshape(-1,1))\n",
    "reg2 = LinearRegression().fit(t22.reshape(-1,1), sd22.reshape(-1,1))"
   ]
  },
  {
   "cell_type": "code",
   "execution_count": 22,
   "metadata": {},
   "outputs": [],
   "source": [
    "data_testing = pd.read_csv(\"TestingDataA.txt\")\n",
    "data_testing = pd.DataFrame(data_testing) \n",
    "data_testing1 = data_testing.iloc[:60,:]\n",
    "data_testing2 = data_testing.iloc[60:,:]\n"
   ]
  },
  {
   "cell_type": "code",
   "execution_count": 23,
   "metadata": {},
   "outputs": [
    {
     "name": "stdout",
     "output_type": "stream",
     "text": [
      "(60, 1)\n",
      "(559, 1)\n"
     ]
    }
   ],
   "source": [
    "print(data_testing1.shape)\n",
    "print(data_testing2.shape)"
   ]
  },
  {
   "cell_type": "code",
   "execution_count": 24,
   "metadata": {},
   "outputs": [],
   "source": [
    "data_testing1 = data_testing1.to_numpy()\n",
    "data_testing2 = data_testing2.to_numpy()"
   ]
  },
  {
   "cell_type": "code",
   "execution_count": 25,
   "metadata": {},
   "outputs": [],
   "source": [
    "data_pred1 = reg1.predict(data_testing1)\n",
    "data_pred2 = reg2.predict(data_testing2)"
   ]
  },
  {
   "cell_type": "code",
   "execution_count": 67,
   "metadata": {},
   "outputs": [
    {
     "data": {
      "text/plain": [
       "numpy.ndarray"
      ]
     },
     "execution_count": 67,
     "metadata": {},
     "output_type": "execute_result"
    }
   ],
   "source": [
    "type(t1)"
   ]
  },
  {
   "cell_type": "code",
   "execution_count": 80,
   "metadata": {},
   "outputs": [],
   "source": [
    "t1_full = data_measurement1.iloc[:,0]\n",
    "t2_full = data_measurement2.iloc[:,0]\n",
    "\n",
    "t1_full = t1_full.to_numpy()\n",
    "t2_full = t2_full.to_numpy()\n",
    "\n",
    "measure_pred1 = reg1.predict(t1_full.reshape(-1,1)) \n",
    "measure_pred2 = reg2.predict(t2_full.reshape(-1,1)) "
   ]
  },
  {
   "cell_type": "code",
   "execution_count": 81,
   "metadata": {},
   "outputs": [],
   "source": [
    "measure_pred = np.vstack((measure_pred1, measure_pred2)) "
   ]
  },
  {
   "cell_type": "code",
   "execution_count": 82,
   "metadata": {},
   "outputs": [
    {
     "name": "stdout",
     "output_type": "stream",
     "text": [
      "(621, 1)\n"
     ]
    }
   ],
   "source": [
    "print(measure_pred.shape)"
   ]
  },
  {
   "cell_type": "code",
   "execution_count": 76,
   "metadata": {},
   "outputs": [
    {
     "name": "stdout",
     "output_type": "stream",
     "text": [
      "(621, 2)\n"
     ]
    }
   ],
   "source": [
    "data_measurement_np = data_measurement.to_numpy()\n",
    "print(data_measurement_np.shape)\n",
    "\n"
   ]
  },
  {
   "cell_type": "code",
   "execution_count": 83,
   "metadata": {},
   "outputs": [],
   "source": [
    "measure_data_fulll = np.append(data_measurement_np, measure_pred, 1)\n",
    "np.savetxt(\"MeasureDataFull.txt\", measure_data_fulll)"
   ]
  },
  {
   "cell_type": "code",
   "execution_count": 72,
   "metadata": {},
   "outputs": [
    {
     "data": {
      "text/plain": [
       "pandas.core.frame.DataFrame"
      ]
     },
     "execution_count": 72,
     "metadata": {},
     "output_type": "execute_result"
    }
   ],
   "source": [
    "type(data_measurement)"
   ]
  },
  {
   "cell_type": "code",
   "execution_count": 69,
   "metadata": {},
   "outputs": [
    {
     "name": "stdout",
     "output_type": "stream",
     "text": [
      "[[0.99691759]\n",
      " [0.99692307]\n",
      " [0.99692855]\n",
      " [0.99693403]\n",
      " [0.99693951]\n",
      " [0.99694499]\n",
      " [0.99695047]\n",
      " [0.99695595]\n",
      " [0.99696142]\n",
      " [0.9969669 ]\n",
      " [0.99697238]\n",
      " [0.99697786]\n",
      " [0.99698334]\n",
      " [0.99698882]\n",
      " [0.9969943 ]\n",
      " [0.99699978]\n",
      " [0.99700526]\n",
      " [0.99701074]\n",
      " [0.99701622]\n",
      " [0.9970217 ]\n",
      " [0.99702717]\n",
      " [0.99703265]\n",
      " [0.99703813]\n",
      " [0.99704361]\n",
      " [0.99704909]\n",
      " [0.99705457]\n",
      " [0.99706005]\n",
      " [0.99706553]\n",
      " [0.99707101]\n",
      " [0.99707649]\n",
      " [0.99708197]\n",
      " [0.99708745]\n",
      " [0.99709293]\n",
      " [0.9970984 ]\n",
      " [0.99710388]\n",
      " [0.99710936]\n",
      " [0.99711484]\n",
      " [0.99712032]\n",
      " [0.9971258 ]\n",
      " [0.99713128]\n",
      " [0.99713676]\n",
      " [0.99714224]\n",
      " [0.99714772]\n",
      " [0.9971532 ]\n",
      " [0.99715868]\n",
      " [0.99716415]\n",
      " [0.99716963]\n",
      " [0.99717511]\n",
      " [0.99718059]\n",
      " [0.99718607]]\n",
      "[[0.98128985]\n",
      " [0.98145837]\n",
      " [0.9816269 ]\n",
      " [0.98179543]\n",
      " [0.98196395]\n",
      " [0.98213248]\n",
      " [0.982301  ]\n",
      " [0.98246953]\n",
      " [0.98263806]\n",
      " [0.98280658]\n",
      " [0.98297511]\n",
      " [0.98314364]\n",
      " [0.98331216]\n",
      " [0.98348069]\n",
      " [0.98364921]\n",
      " [0.98381774]\n",
      " [0.98398627]\n",
      " [0.98415479]\n",
      " [0.98432332]\n",
      " [0.98449185]\n",
      " [0.98466037]\n",
      " [0.9848289 ]\n",
      " [0.98499742]\n",
      " [0.98516595]\n",
      " [0.98533448]\n",
      " [0.985503  ]\n",
      " [0.98567153]\n",
      " [0.98584006]\n",
      " [0.98600858]\n",
      " [0.98617711]\n",
      " [0.98634563]\n",
      " [0.98651416]\n",
      " [0.98668269]\n",
      " [0.98685121]\n",
      " [0.98701974]\n",
      " [0.98718827]\n",
      " [0.98735679]\n",
      " [0.98752532]\n",
      " [0.98769384]\n",
      " [0.98786237]\n",
      " [0.9880309 ]\n",
      " [0.98819942]\n",
      " [0.98836795]\n",
      " [0.98853648]\n",
      " [0.988705  ]\n",
      " [0.98887353]\n",
      " [0.98904206]\n",
      " [0.98921058]\n",
      " [0.98937911]\n",
      " [0.98954763]\n",
      " [0.98971616]\n",
      " [0.98988469]\n",
      " [0.99005321]\n",
      " [0.99022174]\n",
      " [0.99039027]\n",
      " [0.99055879]\n",
      " [0.99072732]\n",
      " [0.99089584]\n",
      " [0.99106437]\n",
      " [0.9912329 ]\n",
      " [0.99140142]\n",
      " [0.99156995]\n",
      " [0.99173848]\n",
      " [0.991907  ]\n",
      " [0.99207553]\n",
      " [0.99224405]\n",
      " [0.99241258]\n",
      " [0.99258111]\n",
      " [0.99274963]\n",
      " [0.99291816]\n",
      " [0.99308669]\n",
      " [0.99325521]\n",
      " [0.99342374]\n",
      " [0.99359226]\n",
      " [0.99376079]\n",
      " [0.99392932]\n",
      " [0.99409784]\n",
      " [0.99426637]\n",
      " [0.9944349 ]\n",
      " [0.99460342]\n",
      " [0.99477195]\n",
      " [0.99494047]\n",
      " [0.995109  ]\n",
      " [0.99527753]\n",
      " [0.99544605]\n",
      " [0.99561458]\n",
      " [0.99578311]\n",
      " [0.99595163]\n",
      " [0.99612016]\n",
      " [0.99628868]\n",
      " [0.99645721]\n",
      " [0.99662574]\n",
      " [0.99679426]\n",
      " [0.99696279]\n",
      " [0.99713132]\n",
      " [0.99729984]\n",
      " [0.99746837]\n",
      " [0.9976369 ]\n",
      " [0.99780542]\n",
      " [0.99797395]\n",
      " [0.99814247]\n",
      " [0.998311  ]\n",
      " [0.99847953]\n",
      " [0.99864805]\n",
      " [0.99881658]\n",
      " [0.99898511]\n",
      " [0.99915363]\n",
      " [0.99932216]\n",
      " [0.99949068]\n",
      " [0.99965921]\n",
      " [0.99982774]\n",
      " [0.99999626]\n",
      " [1.00016479]\n",
      " [1.00033332]\n",
      " [1.00050184]\n",
      " [1.00067037]\n",
      " [1.00083889]\n",
      " [1.00100742]\n",
      " [1.00117595]\n",
      " [1.00134447]\n",
      " [1.001513  ]\n",
      " [1.00168153]\n",
      " [1.00185005]\n",
      " [1.00201858]\n",
      " [1.0021871 ]\n",
      " [1.00235563]\n",
      " [1.00252416]\n",
      " [1.00269268]\n",
      " [1.00286121]\n",
      " [1.00302974]\n",
      " [1.00319826]\n",
      " [1.00336679]\n",
      " [1.00353531]\n",
      " [1.00370384]\n",
      " [1.00387237]\n",
      " [1.00404089]\n",
      " [1.00420942]\n",
      " [1.00437795]\n",
      " [1.00454647]\n",
      " [1.004715  ]\n",
      " [1.00488352]\n",
      " [1.00505205]\n",
      " [1.00522058]\n",
      " [1.0053891 ]\n",
      " [1.00555763]\n",
      " [1.00572616]\n",
      " [1.00589468]\n",
      " [1.00606321]\n",
      " [1.00623174]\n",
      " [1.00640026]\n",
      " [1.00656879]\n",
      " [1.00673731]\n",
      " [1.00690584]\n",
      " [1.00707437]\n",
      " [1.00724289]\n",
      " [1.00741142]\n",
      " [1.00757995]\n",
      " [1.00774847]\n",
      " [1.007917  ]\n",
      " [1.00808552]\n",
      " [1.00825405]\n",
      " [1.00842258]\n",
      " [1.0085911 ]\n",
      " [1.00875963]\n",
      " [1.00892816]\n",
      " [1.00909668]\n",
      " [1.00926521]\n",
      " [1.00943373]\n",
      " [1.00960226]\n",
      " [1.00977079]\n",
      " [1.00993931]\n",
      " [1.01010784]\n",
      " [1.01027637]\n",
      " [1.01044489]\n",
      " [1.01061342]\n",
      " [1.01078194]\n",
      " [1.01095047]\n",
      " [1.011119  ]\n",
      " [1.01128752]\n",
      " [1.01145605]\n",
      " [1.01162458]\n",
      " [1.0117931 ]\n",
      " [1.01196163]\n",
      " [1.01213015]\n",
      " [1.01229868]\n",
      " [1.01246721]\n",
      " [1.01263573]\n",
      " [1.01280426]\n",
      " [1.01297279]\n",
      " [1.01314131]\n",
      " [1.01330984]\n",
      " [1.01347836]\n",
      " [1.01364689]\n",
      " [1.01381542]\n",
      " [1.01398394]\n",
      " [1.01415247]\n",
      " [1.014321  ]\n",
      " [1.01448952]\n",
      " [1.01465805]\n",
      " [1.01482658]\n",
      " [1.0149951 ]\n",
      " [1.01516363]\n",
      " [1.01533215]\n",
      " [1.01550068]\n",
      " [1.01566921]\n",
      " [1.01583773]\n",
      " [1.01600626]\n",
      " [1.01617479]\n",
      " [1.01634331]\n",
      " [1.01651184]\n",
      " [1.01668036]\n",
      " [1.01684889]\n",
      " [1.01701742]\n",
      " [1.01718594]\n",
      " [1.01735447]\n",
      " [1.017523  ]\n",
      " [1.01769152]\n",
      " [1.01786005]\n",
      " [1.01802857]\n",
      " [1.0181971 ]\n",
      " [1.01836563]\n",
      " [1.01853415]\n",
      " [1.01870268]\n",
      " [1.01887121]\n",
      " [1.01903973]\n",
      " [1.01920826]\n",
      " [1.01937678]\n",
      " [1.01954531]\n",
      " [1.01971384]\n",
      " [1.01988236]\n",
      " [1.02005089]\n",
      " [1.02021942]\n",
      " [1.02038794]\n",
      " [1.02055647]\n",
      " [1.02072499]\n",
      " [1.02089352]\n",
      " [1.02106205]\n",
      " [1.02123057]\n",
      " [1.0213991 ]\n",
      " [1.02156763]\n",
      " [1.02173615]\n",
      " [1.02190468]\n",
      " [1.0220732 ]\n",
      " [1.02224173]\n",
      " [1.02241026]\n",
      " [1.02257878]\n",
      " [1.02274731]\n",
      " [1.02291584]\n",
      " [1.02308436]\n",
      " [1.02325289]\n",
      " [1.02342142]\n",
      " [1.02358994]\n",
      " [1.02375847]\n",
      " [1.02392699]\n",
      " [1.02409552]\n",
      " [1.02426405]\n",
      " [1.02443257]\n",
      " [1.0246011 ]\n",
      " [1.02476963]\n",
      " [1.02493815]\n",
      " [1.02510668]\n",
      " [1.0252752 ]\n",
      " [1.02544373]\n",
      " [1.02561226]\n",
      " [1.02578078]\n",
      " [1.02594931]\n",
      " [1.02611784]\n",
      " [1.02628636]\n",
      " [1.02645489]\n",
      " [1.02662341]\n",
      " [1.02679194]\n",
      " [1.02696047]\n",
      " [1.02712899]\n",
      " [1.02729752]\n",
      " [1.02746605]\n",
      " [1.02763457]\n",
      " [1.0278031 ]\n",
      " [1.02797162]\n",
      " [1.02814015]\n",
      " [1.02830868]\n",
      " [1.0284772 ]\n",
      " [1.02864573]\n",
      " [1.02881426]\n",
      " [1.02898278]\n",
      " [1.02915131]\n",
      " [1.02931983]\n",
      " [1.02948836]\n",
      " [1.02965689]\n",
      " [1.02982541]\n",
      " [1.02999394]\n",
      " [1.03016247]\n",
      " [1.03033099]\n",
      " [1.03049952]\n",
      " [1.03066804]\n",
      " [1.03083657]\n",
      " [1.0310051 ]\n",
      " [1.03117362]\n",
      " [1.03134215]\n",
      " [1.03151068]\n",
      " [1.0316792 ]\n",
      " [1.03184773]\n",
      " [1.03201626]\n",
      " [1.03218478]\n",
      " [1.03235331]\n",
      " [1.03252183]\n",
      " [1.03269036]\n",
      " [1.03285889]\n",
      " [1.03302741]\n",
      " [1.03319594]\n",
      " [1.03336447]\n",
      " [1.03353299]\n",
      " [1.03370152]\n",
      " [1.03387004]\n",
      " [1.03403857]\n",
      " [1.0342071 ]\n",
      " [1.03437562]\n",
      " [1.03454415]\n",
      " [1.03471268]\n",
      " [1.0348812 ]\n",
      " [1.03504973]\n",
      " [1.03521825]\n",
      " [1.03538678]\n",
      " [1.03555531]\n",
      " [1.03572383]\n",
      " [1.03589236]\n",
      " [1.03606089]\n",
      " [1.03622941]\n",
      " [1.03639794]\n",
      " [1.03656646]\n",
      " [1.03673499]\n",
      " [1.03690352]\n",
      " [1.03707204]\n",
      " [1.03724057]\n",
      " [1.0374091 ]\n",
      " [1.03757762]\n",
      " [1.03774615]\n",
      " [1.03791467]\n",
      " [1.0380832 ]\n",
      " [1.03825173]\n",
      " [1.03842025]\n",
      " [1.03858878]\n",
      " [1.03875731]\n",
      " [1.03892583]\n",
      " [1.03909436]\n",
      " [1.03926288]\n",
      " [1.03943141]\n",
      " [1.03959994]\n",
      " [1.03976846]\n",
      " [1.03993699]\n",
      " [1.04010552]\n",
      " [1.04027404]\n",
      " [1.04044257]\n",
      " [1.0406111 ]\n",
      " [1.04077962]\n",
      " [1.04094815]\n",
      " [1.04111667]\n",
      " [1.0412852 ]\n",
      " [1.04145373]\n",
      " [1.04162225]\n",
      " [1.04179078]\n",
      " [1.04195931]\n",
      " [1.04212783]\n",
      " [1.04229636]\n",
      " [1.04246488]\n",
      " [1.04263341]\n",
      " [1.04280194]\n",
      " [1.04297046]\n",
      " [1.04313899]\n",
      " [1.04330752]\n",
      " [1.04347604]\n",
      " [1.04364457]\n",
      " [1.04381309]\n",
      " [1.04398162]\n",
      " [1.04415015]\n",
      " [1.04431867]\n",
      " [1.0444872 ]\n",
      " [1.04465573]\n",
      " [1.04482425]\n",
      " [1.04499278]\n",
      " [1.0451613 ]\n",
      " [1.04532983]\n",
      " [1.04549836]\n",
      " [1.04566688]\n",
      " [1.04583541]\n",
      " [1.04600394]\n",
      " [1.04617246]\n",
      " [1.04634099]\n",
      " [1.04650951]\n",
      " [1.04667804]\n",
      " [1.04684657]\n",
      " [1.04701509]\n",
      " [1.04718362]\n",
      " [1.04735215]\n",
      " [1.04752067]\n",
      " [1.0476892 ]\n",
      " [1.04785772]\n",
      " [1.04802625]\n",
      " [1.04819478]\n",
      " [1.0483633 ]\n",
      " [1.04853183]\n",
      " [1.04870036]\n",
      " [1.04886888]\n",
      " [1.04903741]\n",
      " [1.04920594]\n",
      " [1.04937446]\n",
      " [1.04954299]\n",
      " [1.04971151]\n",
      " [1.04988004]\n",
      " [1.05004857]\n",
      " [1.05021709]\n",
      " [1.05038562]\n",
      " [1.05055415]\n",
      " [1.05072267]\n",
      " [1.0508912 ]\n",
      " [1.05105972]\n",
      " [1.05122825]\n",
      " [1.05139678]\n",
      " [1.0515653 ]\n",
      " [1.05173383]\n",
      " [1.05190236]\n",
      " [1.05207088]\n",
      " [1.05223941]\n",
      " [1.05240793]\n",
      " [1.05257646]\n",
      " [1.05274499]\n",
      " [1.05291351]\n",
      " [1.05308204]\n",
      " [1.05325057]\n",
      " [1.05341909]\n",
      " [1.05358762]\n",
      " [1.05375614]\n",
      " [1.05392467]\n",
      " [1.0540932 ]\n",
      " [1.05426172]\n",
      " [1.05443025]\n",
      " [1.05459878]\n",
      " [1.0547673 ]\n",
      " [1.05493583]\n",
      " [1.05510435]\n",
      " [1.05527288]\n",
      " [1.05544141]\n",
      " [1.05560993]\n",
      " [1.05577846]\n",
      " [1.05594699]\n",
      " [1.05611551]\n",
      " [1.05628404]\n",
      " [1.05645256]\n",
      " [1.05662109]\n",
      " [1.05678962]\n",
      " [1.05695814]\n",
      " [1.05712667]\n",
      " [1.0572952 ]\n",
      " [1.05746372]\n",
      " [1.05763225]\n",
      " [1.05780078]\n",
      " [1.0579693 ]\n",
      " [1.05813783]\n",
      " [1.05830635]\n",
      " [1.05847488]\n",
      " [1.05864341]\n",
      " [1.05881193]\n",
      " [1.05898046]\n",
      " [1.05914899]\n",
      " [1.05931751]\n",
      " [1.05948604]\n",
      " [1.05965456]\n",
      " [1.05982309]\n",
      " [1.05999162]\n",
      " [1.06016014]\n",
      " [1.06032867]\n",
      " [1.0604972 ]\n",
      " [1.06066572]\n",
      " [1.06083425]\n",
      " [1.06100277]\n",
      " [1.0611713 ]\n",
      " [1.06133983]\n",
      " [1.06150835]\n",
      " [1.06167688]\n",
      " [1.06184541]\n",
      " [1.06201393]\n",
      " [1.06218246]\n",
      " [1.06235098]\n",
      " [1.06251951]\n",
      " [1.06268804]\n",
      " [1.06285656]\n",
      " [1.06302509]\n",
      " [1.06319362]\n",
      " [1.06336214]\n",
      " [1.06353067]\n",
      " [1.06369919]\n",
      " [1.06386772]\n",
      " [1.06403625]\n",
      " [1.06420477]\n",
      " [1.0643733 ]\n",
      " [1.06454183]\n",
      " [1.06471035]\n",
      " [1.06487888]\n",
      " [1.0650474 ]\n",
      " [1.06521593]\n",
      " [1.06538446]\n",
      " [1.06555298]\n",
      " [1.06572151]\n",
      " [1.06589004]\n",
      " [1.06605856]\n",
      " [1.06622709]\n",
      " [1.06639562]\n",
      " [1.06656414]\n",
      " [1.06673267]\n",
      " [1.06690119]\n",
      " [1.06706972]\n",
      " [1.06723825]\n",
      " [1.06740677]\n",
      " [1.0675753 ]\n",
      " [1.06774383]\n",
      " [1.06791235]\n",
      " [1.06808088]\n",
      " [1.0682494 ]\n",
      " [1.06841793]\n",
      " [1.06858646]\n",
      " [1.06875498]\n",
      " [1.06892351]\n",
      " [1.06909204]\n",
      " [1.06926056]\n",
      " [1.06942909]\n",
      " [1.06959761]\n",
      " [1.06976614]\n",
      " [1.06993467]\n",
      " [1.07010319]\n",
      " [1.07027172]\n",
      " [1.07044025]\n",
      " [1.07060877]\n",
      " [1.0707773 ]\n",
      " [1.07094582]\n",
      " [1.07111435]\n",
      " [1.07128288]\n",
      " [1.0714514 ]\n",
      " [1.07161993]\n",
      " [1.07178846]\n",
      " [1.07195698]\n",
      " [1.07212551]\n",
      " [1.07229403]\n",
      " [1.07246256]\n",
      " [1.07263109]\n",
      " [1.07279961]\n",
      " [1.07296814]\n",
      " [1.07313667]\n",
      " [1.07330519]\n",
      " [1.07347372]\n",
      " [1.07364224]\n",
      " [1.07381077]\n",
      " [1.0739793 ]]\n"
     ]
    }
   ],
   "source": [
    "print(measure_pred1)\n",
    "print(measure_pred2)"
   ]
  },
  {
   "cell_type": "code",
   "execution_count": null,
   "metadata": {},
   "outputs": [],
   "source": []
  },
  {
   "cell_type": "code",
   "execution_count": 26,
   "metadata": {},
   "outputs": [
    {
     "name": "stdout",
     "output_type": "stream",
     "text": [
      "[[0.01188967]\n",
      " [0.01195912]\n",
      " [0.01202856]\n",
      " [0.01209801]\n",
      " [0.01216746]\n",
      " [0.0122369 ]\n",
      " [0.01230635]\n",
      " [0.0123758 ]\n",
      " [0.01244524]\n",
      " [0.01251469]\n",
      " [0.01258414]\n",
      " [0.01265358]\n",
      " [0.01272303]\n",
      " [0.01279248]\n",
      " [0.01286192]\n",
      " [0.01293137]\n",
      " [0.01300082]\n",
      " [0.01307026]\n",
      " [0.01313971]\n",
      " [0.01320916]\n",
      " [0.0132786 ]\n",
      " [0.01334805]\n",
      " [0.0134175 ]\n",
      " [0.01348694]\n",
      " [0.01355639]\n",
      " [0.01362584]\n",
      " [0.01369528]\n",
      " [0.01376473]\n",
      " [0.01383418]\n",
      " [0.01390362]\n",
      " [0.01397307]\n",
      " [0.01404252]\n",
      " [0.01411196]\n",
      " [0.01418141]\n",
      " [0.01425086]\n",
      " [0.0143203 ]\n",
      " [0.01438975]\n",
      " [0.0144592 ]\n",
      " [0.01452864]\n",
      " [0.01459809]\n",
      " [0.01466754]\n",
      " [0.01473698]\n",
      " [0.01480643]\n",
      " [0.01487588]\n",
      " [0.01494532]\n",
      " [0.01501477]\n",
      " [0.01508422]\n",
      " [0.01515366]\n",
      " [0.01522311]\n",
      " [0.01529256]\n",
      " [0.015362  ]\n",
      " [0.01543145]\n",
      " [0.0155009 ]\n",
      " [0.01557034]\n",
      " [0.01563979]\n",
      " [0.01570924]\n",
      " [0.01577868]\n",
      " [0.01584813]\n",
      " [0.01591758]\n",
      " [0.04237674]]\n",
      "[[0.06652981]\n",
      " [0.06695642]\n",
      " [0.06738303]\n",
      " [0.06780964]\n",
      " [0.06823625]\n",
      " [0.06866286]\n",
      " [0.06908947]\n",
      " [0.06951609]\n",
      " [0.0699427 ]\n",
      " [0.07036931]\n",
      " [0.07079592]\n",
      " [0.07122253]\n",
      " [0.07164914]\n",
      " [0.07207575]\n",
      " [0.07250236]\n",
      " [0.07292897]\n",
      " [0.07335559]\n",
      " [0.0737822 ]\n",
      " [0.07420881]\n",
      " [0.07463542]\n",
      " [0.07506203]\n",
      " [0.07548864]\n",
      " [0.07591525]\n",
      " [0.07634186]\n",
      " [0.07676847]\n",
      " [0.07719509]\n",
      " [0.0776217 ]\n",
      " [0.07804831]\n",
      " [0.07847492]\n",
      " [0.07890153]\n",
      " [0.07932814]\n",
      " [0.07975475]\n",
      " [0.08018136]\n",
      " [0.08060797]\n",
      " [0.08103459]\n",
      " [0.0814612 ]\n",
      " [0.08188781]\n",
      " [0.08231442]\n",
      " [0.08274103]\n",
      " [0.08316764]\n",
      " [0.08359425]\n",
      " [0.08402086]\n",
      " [0.08444747]\n",
      " [0.08487409]\n",
      " [0.0853007 ]\n",
      " [0.08572731]\n",
      " [0.08615392]\n",
      " [0.08658053]\n",
      " [0.08700714]\n",
      " [0.08743375]\n",
      " [0.08786036]\n",
      " [0.08828697]\n",
      " [0.08871359]\n",
      " [0.0891402 ]\n",
      " [0.08956681]\n",
      " [0.08999342]\n",
      " [0.09042003]\n",
      " [0.09084664]\n",
      " [0.09127325]\n",
      " [0.09169986]\n",
      " [0.09212648]\n",
      " [0.09255309]\n",
      " [0.0929797 ]\n",
      " [0.09340631]\n",
      " [0.09383292]\n",
      " [0.09425953]\n",
      " [0.09468614]\n",
      " [0.09511275]\n",
      " [0.09553936]\n",
      " [0.09596598]\n",
      " [0.09639259]\n",
      " [0.0968192 ]\n",
      " [0.09724581]\n",
      " [0.09767242]\n",
      " [0.09809903]\n",
      " [0.09852564]\n",
      " [0.09895225]\n",
      " [0.09937886]\n",
      " [0.09980548]\n",
      " [0.10023209]\n",
      " [0.1006587 ]\n",
      " [0.10108531]\n",
      " [0.10151192]\n",
      " [0.10193853]\n",
      " [0.10236514]\n",
      " [0.10279175]\n",
      " [0.10321836]\n",
      " [0.10364498]\n",
      " [0.10407159]\n",
      " [0.1044982 ]\n",
      " [0.10492481]\n",
      " [0.10535142]\n",
      " [0.10577803]\n",
      " [0.10620464]\n",
      " [0.10663125]\n",
      " [0.10705786]\n",
      " [0.10748448]\n",
      " [0.10791109]\n",
      " [0.1083377 ]\n",
      " [0.10876431]\n",
      " [0.10919092]\n",
      " [0.10961753]\n",
      " [0.11004414]\n",
      " [0.11047075]\n",
      " [0.11089736]\n",
      " [0.11132398]\n",
      " [0.11175059]\n",
      " [0.1121772 ]\n",
      " [0.11260381]\n",
      " [0.11303042]\n",
      " [0.11345703]\n",
      " [0.11388364]\n",
      " [0.11431025]\n",
      " [0.11473686]\n",
      " [0.11516348]\n",
      " [0.11559009]\n",
      " [0.1160167 ]\n",
      " [0.11644331]\n",
      " [0.11686992]\n",
      " [0.11729653]\n",
      " [0.11772314]\n",
      " [0.11814975]\n",
      " [0.11857637]\n",
      " [0.11900298]\n",
      " [0.11942959]\n",
      " [0.1198562 ]\n",
      " [0.12028281]\n",
      " [0.12070942]\n",
      " [0.12113603]\n",
      " [0.12156264]\n",
      " [0.12198925]\n",
      " [0.12241587]\n",
      " [0.12284248]\n",
      " [0.12326909]\n",
      " [0.1236957 ]\n",
      " [0.12412231]\n",
      " [0.12454892]\n",
      " [0.12497553]\n",
      " [0.12540214]\n",
      " [0.12582875]\n",
      " [0.12625537]\n",
      " [0.12668198]\n",
      " [0.12710859]\n",
      " [0.1275352 ]\n",
      " [0.12796181]\n",
      " [0.12838842]\n",
      " [0.12881503]\n",
      " [0.12924164]\n",
      " [0.12966825]\n",
      " [0.13009487]\n",
      " [0.13052148]\n",
      " [0.13094809]\n",
      " [0.1313747 ]\n",
      " [0.13180131]\n",
      " [0.13222792]\n",
      " [0.13265453]\n",
      " [0.13308114]\n",
      " [0.13350775]\n",
      " [0.13393437]\n",
      " [0.13436098]\n",
      " [0.13478759]\n",
      " [0.1352142 ]\n",
      " [0.13564081]\n",
      " [0.13606742]\n",
      " [0.13649403]\n",
      " [0.13692064]\n",
      " [0.13734725]\n",
      " [0.13777387]\n",
      " [0.13820048]\n",
      " [0.13862709]\n",
      " [0.1390537 ]\n",
      " [0.13948031]\n",
      " [0.13990692]\n",
      " [0.14033353]\n",
      " [0.14076014]\n",
      " [0.14118675]\n",
      " [0.14161337]\n",
      " [0.14203998]\n",
      " [0.14246659]\n",
      " [0.1428932 ]\n",
      " [0.14331981]\n",
      " [0.14374642]\n",
      " [0.14417303]\n",
      " [0.14459964]\n",
      " [0.14502625]\n",
      " [0.14545287]\n",
      " [0.14587948]\n",
      " [0.14630609]\n",
      " [0.1467327 ]\n",
      " [0.14715931]\n",
      " [0.14758592]\n",
      " [0.14801253]\n",
      " [0.14843914]\n",
      " [0.14886576]\n",
      " [0.14929237]\n",
      " [0.14971898]\n",
      " [0.15014559]\n",
      " [0.1505722 ]\n",
      " [0.15099881]\n",
      " [0.15142542]\n",
      " [0.15185203]\n",
      " [0.15227864]\n",
      " [0.15270526]\n",
      " [0.15313187]\n",
      " [0.15355848]\n",
      " [0.15398509]\n",
      " [0.1544117 ]\n",
      " [0.15483831]\n",
      " [0.15526492]\n",
      " [0.15569153]\n",
      " [0.15611814]\n",
      " [0.15654476]\n",
      " [0.15697137]\n",
      " [0.15739798]\n",
      " [0.15782459]\n",
      " [0.1582512 ]\n",
      " [0.15867781]\n",
      " [0.15910442]\n",
      " [0.15953103]\n",
      " [0.15995764]\n",
      " [0.16038426]\n",
      " [0.16081087]\n",
      " [0.16123748]\n",
      " [0.16166409]\n",
      " [0.1620907 ]\n",
      " [0.16251731]\n",
      " [0.16294392]\n",
      " [0.16337053]\n",
      " [0.16379714]\n",
      " [0.16422376]\n",
      " [0.16465037]\n",
      " [0.16507698]\n",
      " [0.16550359]\n",
      " [0.1659302 ]\n",
      " [0.16635681]\n",
      " [0.16678342]\n",
      " [0.16721003]\n",
      " [0.16763664]\n",
      " [0.16806326]\n",
      " [0.16848987]\n",
      " [0.16891648]\n",
      " [0.16934309]\n",
      " [0.1697697 ]\n",
      " [0.17019631]\n",
      " [0.17062292]\n",
      " [0.17104953]\n",
      " [0.17147614]\n",
      " [0.17190276]\n",
      " [0.17232937]\n",
      " [0.17275598]\n",
      " [0.17318259]\n",
      " [0.1736092 ]\n",
      " [0.17403581]\n",
      " [0.17446242]\n",
      " [0.17488903]\n",
      " [0.17531564]\n",
      " [0.17574226]\n",
      " [0.17616887]\n",
      " [0.17659548]\n",
      " [0.17702209]\n",
      " [0.1774487 ]\n",
      " [0.17787531]\n",
      " [0.17830192]\n",
      " [0.17872853]\n",
      " [0.17915515]\n",
      " [0.17958176]\n",
      " [0.18000837]\n",
      " [0.18043498]\n",
      " [0.18086159]\n",
      " [0.1812882 ]\n",
      " [0.18171481]\n",
      " [0.18214142]\n",
      " [0.18256803]\n",
      " [0.18299465]\n",
      " [0.18342126]\n",
      " [0.18384787]\n",
      " [0.18427448]\n",
      " [0.18470109]\n",
      " [0.1851277 ]\n",
      " [0.18555431]\n",
      " [0.18598092]\n",
      " [0.18640753]\n",
      " [0.18683415]\n",
      " [0.18726076]\n",
      " [0.18768737]\n",
      " [0.18811398]\n",
      " [0.18854059]\n",
      " [0.1889672 ]\n",
      " [0.18939381]\n",
      " [0.18982042]\n",
      " [0.19024703]\n",
      " [0.19067365]\n",
      " [0.19110026]\n",
      " [0.19152687]\n",
      " [0.19195348]\n",
      " [0.19238009]\n",
      " [0.1928067 ]\n",
      " [0.19323331]\n",
      " [0.19365992]\n",
      " [0.19408653]\n",
      " [0.19451315]\n",
      " [0.19493976]\n",
      " [0.19536637]\n",
      " [0.19579298]\n",
      " [0.19621959]\n",
      " [0.1966462 ]\n",
      " [0.19707281]\n",
      " [0.19749942]\n",
      " [0.19792603]\n",
      " [0.19835265]\n",
      " [0.19877926]\n",
      " [0.19920587]\n",
      " [0.19963248]\n",
      " [0.20005909]\n",
      " [0.2004857 ]\n",
      " [0.20091231]\n",
      " [0.20133892]\n",
      " [0.20176553]\n",
      " [0.20219215]\n",
      " [0.20261876]\n",
      " [0.20304537]\n",
      " [0.20347198]\n",
      " [0.20389859]\n",
      " [0.2043252 ]\n",
      " [0.20475181]\n",
      " [0.20517842]\n",
      " [0.20560503]\n",
      " [0.20603165]\n",
      " [0.20645826]\n",
      " [0.20688487]\n",
      " [0.20731148]\n",
      " [0.20773809]\n",
      " [0.2081647 ]\n",
      " [0.20859131]\n",
      " [0.20901792]\n",
      " [0.20944454]\n",
      " [0.20987115]\n",
      " [0.21029776]\n",
      " [0.21072437]\n",
      " [0.21115098]\n",
      " [0.21157759]\n",
      " [0.2120042 ]\n",
      " [0.21243081]\n",
      " [0.21285742]\n",
      " [0.21328404]\n",
      " [0.21371065]\n",
      " [0.21413726]\n",
      " [0.21456387]\n",
      " [0.21499048]\n",
      " [0.21541709]\n",
      " [0.2158437 ]\n",
      " [0.21627031]\n",
      " [0.21669692]\n",
      " [0.21712354]\n",
      " [0.21755015]\n",
      " [0.21797676]\n",
      " [0.21840337]\n",
      " [0.21882998]\n",
      " [0.21925659]\n",
      " [0.2196832 ]\n",
      " [0.22010981]\n",
      " [0.22053642]\n",
      " [0.22096304]\n",
      " [0.22138965]\n",
      " [0.22181626]\n",
      " [0.22224287]\n",
      " [0.22266948]\n",
      " [0.22309609]\n",
      " [0.2235227 ]\n",
      " [0.22394931]\n",
      " [0.22437592]\n",
      " [0.22480254]\n",
      " [0.22522915]\n",
      " [0.22565576]\n",
      " [0.22608237]\n",
      " [0.22650898]\n",
      " [0.22693559]\n",
      " [0.2273622 ]\n",
      " [0.22778881]\n",
      " [0.22821542]\n",
      " [0.22864204]\n",
      " [0.22906865]\n",
      " [0.22949526]\n",
      " [0.22992187]\n",
      " [0.23034848]\n",
      " [0.23077509]\n",
      " [0.2312017 ]\n",
      " [0.23162831]\n",
      " [0.23205492]\n",
      " [0.23248154]\n",
      " [0.23290815]\n",
      " [0.23333476]\n",
      " [0.23376137]\n",
      " [0.23418798]\n",
      " [0.23461459]\n",
      " [0.2350412 ]\n",
      " [0.23546781]\n",
      " [0.23589442]\n",
      " [0.23632104]\n",
      " [0.23674765]\n",
      " [0.23717426]\n",
      " [0.23760087]\n",
      " [0.23802748]\n",
      " [0.23845409]\n",
      " [0.2388807 ]\n",
      " [0.23930731]\n",
      " [0.23973393]\n",
      " [0.24016054]\n",
      " [0.24058715]\n",
      " [0.24101376]\n",
      " [0.24144037]\n",
      " [0.24186698]\n",
      " [0.24229359]\n",
      " [0.2427202 ]\n",
      " [0.24314681]\n",
      " [0.24357343]\n",
      " [0.24400004]\n",
      " [0.24442665]\n",
      " [0.24485326]\n",
      " [0.24527987]\n",
      " [0.24570648]\n",
      " [0.24613309]\n",
      " [0.2465597 ]\n",
      " [0.24698631]\n",
      " [0.24741293]\n",
      " [0.24783954]\n",
      " [0.24826615]\n",
      " [0.24869276]\n",
      " [0.24911937]\n",
      " [0.24954598]\n",
      " [0.24997259]\n",
      " [0.2503992 ]\n",
      " [0.25082581]\n",
      " [0.25125243]\n",
      " [0.25167904]\n",
      " [0.25210565]\n",
      " [0.25253226]\n",
      " [0.25295887]\n",
      " [0.25338548]\n",
      " [0.25381209]\n",
      " [0.2542387 ]\n",
      " [0.25466531]\n",
      " [0.25509193]\n",
      " [0.25551854]\n",
      " [0.25594515]\n",
      " [0.25637176]\n",
      " [0.25679837]\n",
      " [0.25722498]\n",
      " [0.25765159]\n",
      " [0.2580782 ]\n",
      " [0.25850481]\n",
      " [0.25893143]\n",
      " [0.25935804]\n",
      " [0.25978465]\n",
      " [0.26021126]\n",
      " [0.26063787]\n",
      " [0.26106448]\n",
      " [0.26149109]\n",
      " [0.2619177 ]\n",
      " [0.26234431]\n",
      " [0.26277093]\n",
      " [0.26319754]\n",
      " [0.26362415]\n",
      " [0.26405076]\n",
      " [0.26447737]\n",
      " [0.26490398]\n",
      " [0.26533059]\n",
      " [0.2657572 ]\n",
      " [0.26618381]\n",
      " [0.26661043]\n",
      " [0.26703704]\n",
      " [0.26746365]\n",
      " [0.26789026]\n",
      " [0.26831687]\n",
      " [0.26874348]\n",
      " [0.26917009]\n",
      " [0.2695967 ]\n",
      " [0.27002332]\n",
      " [0.27044993]\n",
      " [0.27087654]\n",
      " [0.27130315]\n",
      " [0.27172976]\n",
      " [0.27215637]\n",
      " [0.27258298]\n",
      " [0.27300959]\n",
      " [0.2734362 ]\n",
      " [0.27386282]\n",
      " [0.27428943]\n",
      " [0.27471604]\n",
      " [0.27514265]\n",
      " [0.27556926]\n",
      " [0.27599587]\n",
      " [0.27642248]\n",
      " [0.27684909]\n",
      " [0.2772757 ]\n",
      " [0.27770232]\n",
      " [0.27812893]\n",
      " [0.27855554]\n",
      " [0.27898215]\n",
      " [0.27940876]\n",
      " [0.27983537]\n",
      " [0.28026198]\n",
      " [0.28068859]\n",
      " [0.2811152 ]\n",
      " [0.28154182]\n",
      " [0.28196843]\n",
      " [0.28239504]\n",
      " [0.28282165]\n",
      " [0.28324826]\n",
      " [0.28367487]\n",
      " [0.28410148]\n",
      " [0.28452809]\n",
      " [0.2849547 ]\n",
      " [0.28538132]\n",
      " [0.28580793]\n",
      " [0.28623454]\n",
      " [0.28666115]\n",
      " [0.28708776]\n",
      " [0.28751437]\n",
      " [0.28794098]\n",
      " [0.28836759]\n",
      " [0.2887942 ]\n",
      " [0.28922082]\n",
      " [0.28964743]\n",
      " [0.29007404]\n",
      " [0.29050065]\n",
      " [0.29092726]\n",
      " [0.29135387]\n",
      " [0.29178048]\n",
      " [0.29220709]\n",
      " [0.2926337 ]\n",
      " [0.29306032]\n",
      " [0.29348693]\n",
      " [0.29391354]\n",
      " [0.29434015]\n",
      " [0.29476676]\n",
      " [0.29519337]\n",
      " [0.29561998]\n",
      " [0.29604659]\n",
      " [0.2964732 ]\n",
      " [0.29689982]\n",
      " [0.29732643]\n",
      " [0.29775304]\n",
      " [0.29817965]\n",
      " [0.29860626]\n",
      " [0.29903287]\n",
      " [0.29945948]\n",
      " [0.29988609]\n",
      " [0.30031271]\n",
      " [0.30073932]\n",
      " [0.30116593]\n",
      " [0.30159254]\n",
      " [0.30201915]\n",
      " [0.30244576]\n",
      " [0.30287237]\n",
      " [0.30329898]\n",
      " [0.30372559]\n",
      " [0.30415221]\n",
      " [0.30457882]]\n"
     ]
    }
   ],
   "source": [
    "print(data_pred1)\n",
    "print(data_pred2)"
   ]
  },
  {
   "cell_type": "code",
   "execution_count": 31,
   "metadata": {},
   "outputs": [
    {
     "name": "stdout",
     "output_type": "stream",
     "text": [
      "[[2.50250250e-04 1.18896703e-02]\n",
      " [5.00500501e-04 1.19591169e-02]\n",
      " [7.50750751e-04 1.20285636e-02]\n",
      " ...\n",
      " [2.49499499e-01 3.03725594e-01]\n",
      " [2.49749750e-01 3.04152205e-01]\n",
      " [2.50000000e-01 3.04578816e-01]]\n"
     ]
    }
   ],
   "source": [
    "output_4a = np.vstack((data_pred1, data_pred2)) \n",
    "type(output_4a)\n",
    "data_testing_arr = data_testing.to_numpy()\n",
    "output_4a = np.append(data_testing_arr, output_4a, axis=1)\n",
    "print(output_4a)"
   ]
  },
  {
   "cell_type": "code",
   "execution_count": 32,
   "metadata": {},
   "outputs": [],
   "source": [
    "np.savetxt(\"Task4a.txt\", output_4a)"
   ]
  },
  {
   "cell_type": "code",
   "execution_count": 26,
   "metadata": {},
   "outputs": [
    {
     "data": {
      "image/png": "[encoded data removed]",
      "text/plain": [
       "<Figure size 432x288 with 1 Axes>"
      ]
     },
     "metadata": {
      "needs_background": "light"
     },
     "output_type": "display_data"
    }
   ],
   "source": [
    "plt.scatter(t, Tf, c=\"Blue\")\n",
    "plt.scatter(data_testing1, data_pred1, c=\"Green\")\n",
    "plt.scatter(data_testing2, data_pred2, c=\"Red\")\n",
    "plt.show()"
   ]
  },
  {
   "cell_type": "markdown",
   "metadata": {},
   "source": [
    "task 4b "
   ]
  },
  {
   "cell_type": "code",
   "execution_count": 27,
   "metadata": {},
   "outputs": [],
   "source": [
    "data_training = pd.read_csv(\"TrainingData.txt\", sep=\" \")\n",
    "data_training = pd.DataFrame(data_training)"
   ]
  },
  {
   "cell_type": "code",
   "execution_count": 28,
   "metadata": {},
   "outputs": [],
   "source": [
    "t_train = data_training.iloc[:,0]\n",
    "u_train = data_training.iloc[:,1]\n",
    "Tf_train = data_training.iloc[:,2]"
   ]
  },
  {
   "cell_type": "code",
   "execution_count": 70,
   "metadata": {},
   "outputs": [
    {
     "data": {
      "image/png": "[encoded data removed]",
      "text/plain": [
       "<Figure size 432x288 with 1 Axes>"
      ]
     },
     "metadata": {
      "needs_background": "light"
     },
     "output_type": "display_data"
    }
   ],
   "source": [
    "plt.scatter(t_train, u_train, c=\"Blue\")\n",
    "plt.show()"
   ]
  },
  {
   "cell_type": "code",
   "execution_count": 81,
   "metadata": {},
   "outputs": [
    {
     "data": {
      "image/png": "[encoded data removed]",
      "text/plain": [
       "<Figure size 432x288 with 1 Axes>"
      ]
     },
     "metadata": {
      "needs_background": "light"
     },
     "output_type": "display_data"
    }
   ],
   "source": [
    "plt.scatter(t_train, Tf_train, c=\"Blue\")\n",
    "plt.scatter(data_measurement.iloc[:,0], data_measurement.iloc[:,1],c='orange')\n",
    "plt.show()"
   ]
  },
  {
   "cell_type": "markdown",
   "metadata": {},
   "source": [
    "infer the reference velocity of the fluid u* generating the recorded measurements. \n",
    "This can be done by minimizing a suitable cost function G = \n",
    "design a procedure and a suitable cost function G that, given the provided training set S and the measured data, allow you to infer the target velocity u*. \n"
   ]
  },
  {
   "cell_type": "code",
   "execution_count": 29,
   "metadata": {},
   "outputs": [
    {
     "data": {
      "text/plain": [
       "{1.9952623149688795,\n",
       " 2.960932939627084,\n",
       " 4.39397056076079,\n",
       " 6.520572293428614,\n",
       " 9.676410537094535,\n",
       " 14.359617019622153,\n",
       " 21.30941015366797,\n",
       " 31.62277660168379}"
      ]
     },
     "execution_count": 29,
     "metadata": {},
     "output_type": "execute_result"
    }
   ],
   "source": [
    "set(data_training.iloc[:,1])"
   ]
  },
  {
   "cell_type": "code",
   "execution_count": 30,
   "metadata": {},
   "outputs": [
    {
     "name": "stdout",
     "output_type": "stream",
     "text": [
      "(127, 3)\n",
      "(128, 3)\n",
      "(128, 3)\n",
      "(128, 3)\n",
      "(128, 3)\n",
      "(128, 3)\n",
      "(128, 3)\n",
      "(128, 3)\n"
     ]
    }
   ],
   "source": [
    "training_u1 = data_training[data_training.iloc[:,1] == 1.9952623149688795]\n",
    "training_u2 = data_training[data_training.iloc[:,1] == 2.960932939627084]\n",
    "training_u3 = data_training[data_training.iloc[:,1] == 4.39397056076079]\n",
    "training_u4 = data_training[data_training.iloc[:,1] == 6.520572293428614]\n",
    "training_u5 = data_training[data_training.iloc[:,1] == 9.676410537094535]\n",
    "training_u6 = data_training[data_training.iloc[:,1] == 14.359617019622153]\n",
    "training_u7 = data_training[data_training.iloc[:,1] == 21.30941015366797]\n",
    "training_u8 = data_training[data_training.iloc[:,1] == 31.62277660168379]\n",
    "print(training_u1.shape)\n",
    "print(training_u2.shape)\n",
    "print(training_u3.shape)\n",
    "print(training_u4.shape)\n",
    "print(training_u5.shape)\n",
    "print(training_u6.shape)\n",
    "print(training_u7.shape)\n",
    "print(training_u8.shape)"
   ]
  },
  {
   "cell_type": "code",
   "execution_count": 31,
   "metadata": {},
   "outputs": [
    {
     "name": "stderr",
     "output_type": "stream",
     "text": [
      "/Users/chenyilu/anaconda3/lib/python3.7/site-packages/ipykernel_launcher.py:1: UserWarning: Boolean Series key will be reindexed to match DataFrame index.\n",
      "  \"\"\"Entry point for launching an IPython kernel.\n",
      "/Users/chenyilu/anaconda3/lib/python3.7/site-packages/ipykernel_launcher.py:2: UserWarning: Boolean Series key will be reindexed to match DataFrame index.\n",
      "  \n",
      "/Users/chenyilu/anaconda3/lib/python3.7/site-packages/ipykernel_launcher.py:3: UserWarning: Boolean Series key will be reindexed to match DataFrame index.\n",
      "  This is separate from the ipykernel package so we can avoid doing imports until\n",
      "/Users/chenyilu/anaconda3/lib/python3.7/site-packages/ipykernel_launcher.py:4: UserWarning: Boolean Series key will be reindexed to match DataFrame index.\n",
      "  after removing the cwd from sys.path.\n",
      "/Users/chenyilu/anaconda3/lib/python3.7/site-packages/ipykernel_launcher.py:5: UserWarning: Boolean Series key will be reindexed to match DataFrame index.\n",
      "  \"\"\"\n",
      "/Users/chenyilu/anaconda3/lib/python3.7/site-packages/ipykernel_launcher.py:6: UserWarning: Boolean Series key will be reindexed to match DataFrame index.\n",
      "  \n",
      "/Users/chenyilu/anaconda3/lib/python3.7/site-packages/ipykernel_launcher.py:7: UserWarning: Boolean Series key will be reindexed to match DataFrame index.\n",
      "  import sys\n",
      "/Users/chenyilu/anaconda3/lib/python3.7/site-packages/ipykernel_launcher.py:8: UserWarning: Boolean Series key will be reindexed to match DataFrame index.\n",
      "  \n"
     ]
    }
   ],
   "source": [
    "training_u1 = training_u1[data_training.iloc[:,0] > 0.10]\n",
    "training_u2 = training_u2[data_training.iloc[:,0] > 0.10]\n",
    "training_u3 = training_u3[data_training.iloc[:,0] > 0.10]\n",
    "training_u4 = training_u4[data_training.iloc[:,0] > 0.10]\n",
    "training_u5 = training_u5[data_training.iloc[:,0] > 0.10]\n",
    "training_u6 = training_u6[data_training.iloc[:,0] > 0.10]\n",
    "training_u7 = training_u7[data_training.iloc[:,0] > 0.10]\n",
    "training_u8 = training_u8[data_training.iloc[:,0] > 0.10]"
   ]
  },
  {
   "cell_type": "code",
   "execution_count": 32,
   "metadata": {},
   "outputs": [
    {
     "name": "stdout",
     "output_type": "stream",
     "text": [
      "     8.250000000000000389e-02  1.995262314968879513e+00  \\\n",
      "0                     0.11450                  1.995262   \n",
      "4                     0.21775                  1.995262   \n",
      "5                     0.16575                  1.995262   \n",
      "7                     0.16525                  1.995262   \n",
      "9                     0.19225                  1.995262   \n",
      "..                        ...                       ...   \n",
      "120                   0.21400                  1.995262   \n",
      "121                   0.20950                  1.995262   \n",
      "122                   0.13000                  1.995262   \n",
      "125                   0.16175                  1.995262   \n",
      "126                   0.11775                  1.995262   \n",
      "\n",
      "     1.000000000000035083e+00  \n",
      "0                    1.000000  \n",
      "4                    1.001145  \n",
      "5                    1.000013  \n",
      "7                    1.000012  \n",
      "9                    1.000177  \n",
      "..                        ...  \n",
      "120                  1.000898  \n",
      "121                  1.000663  \n",
      "122                  1.000000  \n",
      "125                  1.000008  \n",
      "126                  1.000000  \n",
      "\n",
      "[75 rows x 3 columns]\n",
      "(75, 3)\n"
     ]
    }
   ],
   "source": [
    "print(training_u1)\n",
    "print(training_u1.shape)"
   ]
  },
  {
   "cell_type": "code",
   "execution_count": 33,
   "metadata": {},
   "outputs": [
    {
     "data": {
      "text/plain": [
       "pandas.core.frame.DataFrame"
      ]
     },
     "execution_count": 33,
     "metadata": {},
     "output_type": "execute_result"
    }
   ],
   "source": [
    "type(training_u1)"
   ]
  },
  {
   "cell_type": "code",
   "execution_count": 34,
   "metadata": {},
   "outputs": [],
   "source": [
    "import numpy as np \n",
    "from sklearn.linear_model import LinearRegression \n",
    "t_1 = training_u1.iloc[:,0].values\n",
    "Tf_1 = training_u1.iloc[:,2].values\n",
    "\n",
    "\n",
    "t_2= training_u2.iloc[:,0].values\n",
    "Tf_2 = training_u2.iloc[:,2].values\n",
    "\n",
    "t_3 = training_u3.iloc[:,0].values\n",
    "Tf_3 = training_u3.iloc[:,2].values\n",
    "\n",
    "t_4 = training_u4.iloc[:,0].values\n",
    "Tf_4 = training_u4.iloc[:,2].values\n",
    "\n",
    "t_5 = training_u5.iloc[:,0].values\n",
    "Tf_5 = training_u5.iloc[:,2].values\n",
    "\n",
    "t_6 = training_u6.iloc[:,0].values\n",
    "Tf_6 = training_u6.iloc[:,2].values\n",
    "\n",
    "t_7 = training_u7.iloc[:,0].values\n",
    "Tf_7 = training_u7.iloc[:,2].values\n",
    "\n",
    "t_8 = training_u8.iloc[:,0].values\n",
    "Tf_8 = training_u8.iloc[:,2].values\n",
    "\n",
    "reg1 = LinearRegression().fit(t_1.reshape(-1,1), Tf_1.reshape(-1,1))\n",
    "reg2 = LinearRegression().fit(t_2.reshape(-1,1), Tf_2.reshape(-1,1))\n",
    "reg3 = LinearRegression().fit(t_3.reshape(-1,1), Tf_3.reshape(-1,1))\n",
    "reg4 = LinearRegression().fit(t_4.reshape(-1,1), Tf_4.reshape(-1,1))\n",
    "reg5 = LinearRegression().fit(t_5.reshape(-1,1), Tf_5.reshape(-1,1))\n",
    "reg6 = LinearRegression().fit(t_6.reshape(-1,1), Tf_6.reshape(-1,1))\n",
    "reg7 = LinearRegression().fit(t_7.reshape(-1,1), Tf_7.reshape(-1,1))\n",
    "reg8 = LinearRegression().fit(t_3.reshape(-1,1), Tf_8.reshape(-1,1))\n"
   ]
  },
  {
   "cell_type": "code",
   "execution_count": 35,
   "metadata": {},
   "outputs": [
    {
     "data": {
      "text/plain": [
       "array([[1.10783502]])"
      ]
     },
     "execution_count": 35,
     "metadata": {},
     "output_type": "execute_result"
    }
   ],
   "source": [
    "reg1.coef_\n",
    "reg2.coef_\n",
    "reg3.coef_\n",
    "reg4.coef_\n",
    "reg5.coef_\n",
    "reg6.coef_\n",
    "reg7.coef_\n",
    "reg8.coef_"
   ]
  },
  {
   "cell_type": "code",
   "execution_count": 36,
   "metadata": {},
   "outputs": [],
   "source": [
    "gradient = [reg1.coef_[0][0], reg2.coef_[0][0],reg3.coef_[0][0],reg4.coef_[0][0],reg5.coef_[0][0],reg6.coef_[0][0],reg7.coef_[0][0], reg8.coef_[0][0]]"
   ]
  },
  {
   "cell_type": "code",
   "execution_count": 37,
   "metadata": {},
   "outputs": [
    {
     "data": {
      "text/plain": [
       "[0.02191679324077133,\n",
       " 0.674105097828134,\n",
       " 7.357827624882223,\n",
       " 15.218693734606521,\n",
       " 6.27015155708555,\n",
       " 2.620619906039324,\n",
       " 1.7003288514014971,\n",
       " 1.1078350220724138]"
      ]
     },
     "execution_count": 37,
     "metadata": {},
     "output_type": "execute_result"
    }
   ],
   "source": [
    "gradient"
   ]
  },
  {
   "cell_type": "code",
   "execution_count": 38,
   "metadata": {},
   "outputs": [
    {
     "data": {
      "text/plain": [
       "list"
      ]
     },
     "execution_count": 38,
     "metadata": {},
     "output_type": "execute_result"
    }
   ],
   "source": [
    "type(gradient)"
   ]
  },
  {
   "cell_type": "code",
   "execution_count": 39,
   "metadata": {},
   "outputs": [],
   "source": [
    "u= set(data_training.iloc[:,1])"
   ]
  },
  {
   "cell_type": "code",
   "execution_count": 40,
   "metadata": {},
   "outputs": [
    {
     "data": {
      "text/plain": [
       "set"
      ]
     },
     "execution_count": 40,
     "metadata": {},
     "output_type": "execute_result"
    }
   ],
   "source": [
    "type(u)"
   ]
  },
  {
   "cell_type": "code",
   "execution_count": 41,
   "metadata": {},
   "outputs": [
    {
     "data": {
      "text/plain": [
       "numpy.ndarray"
      ]
     },
     "execution_count": 41,
     "metadata": {},
     "output_type": "execute_result"
    }
   ],
   "source": [
    "gradient = np.array(list(gradient))\n",
    "type(gradient)\n",
    "\n"
   ]
  },
  {
   "cell_type": "code",
   "execution_count": 42,
   "metadata": {},
   "outputs": [
    {
     "data": {
      "text/plain": [
       "numpy.ndarray"
      ]
     },
     "execution_count": 42,
     "metadata": {},
     "output_type": "execute_result"
    }
   ],
   "source": [
    "u = np.array(list(u))\n",
    "type(u)"
   ]
  },
  {
   "cell_type": "code",
   "execution_count": 43,
   "metadata": {},
   "outputs": [],
   "source": [
    "reg = LinearRegression().fit(gradient.reshape(-1,1), u.reshape(-1,1))"
   ]
  },
  {
   "cell_type": "code",
   "execution_count": 44,
   "metadata": {},
   "outputs": [
    {
     "name": "stdout",
     "output_type": "stream",
     "text": [
      "[[2.63102207]]\n"
     ]
    }
   ],
   "source": [
    "t2_measurement = data_measurement2.iloc[:,0].values\n",
    "Tf2_measurement = data_measurement2.iloc[:,1].values\n",
    "\n",
    "reg_measurement = LinearRegression().fit(t2_measurement.reshape(-1,1), Tf2_measurement.reshape(-1,1))\n",
    "\n",
    "grad_measurement = reg_measurement.coef_\n",
    "\n",
    "print(grad_measurement)\n"
   ]
  },
  {
   "cell_type": "code",
   "execution_count": 207,
   "metadata": {},
   "outputs": [],
   "source": [
    "u_star = reg.predict(grad_measurement)"
   ]
  },
  {
   "cell_type": "code",
   "execution_count": 208,
   "metadata": {},
   "outputs": [
    {
     "name": "stdout",
     "output_type": "stream",
     "text": [
      "[[12.57793378]]\n"
     ]
    }
   ],
   "source": [
    "print(u_star)"
   ]
  },
  {
   "cell_type": "markdown",
   "metadata": {},
   "source": [
    "4c perform Bayesian inference and provide 1000 samples drawn from the posterior distribution. \n",
    "use the following prior and likelihood \n",
    "with f being a suitable model for the distribution's mean, dependent on t and u. \n",
    "save the posterior samples in the file"
   ]
  },
  {
   "cell_type": "code",
   "execution_count": 45,
   "metadata": {},
   "outputs": [],
   "source": [
    "import pyro\n",
    "import pyro.distributions as dist\n",
    "import torch\n",
    "import matplotlib.pyplot as plt\n",
    "from pyro.infer import MCMC, NUTS, HMC\n",
    "import seaborn as sns\n",
    "from torch.distributions import MultivariateNormal\n",
    "import pickle\n",
    "import numpy as np\n",
    "import os"
   ]
  },
  {
   "cell_type": "code",
   "execution_count": 46,
   "metadata": {},
   "outputs": [
    {
     "name": "stdout",
     "output_type": "stream",
     "text": [
      "Requirement already satisfied: pyro-ppl in /Users/chenyilu/anaconda3/lib/python3.7/site-packages (1.8.1)\n",
      "Requirement already satisfied: numpy>=1.7 in /Users/chenyilu/anaconda3/lib/python3.7/site-packages (from pyro-ppl) (1.18.1)\n",
      "Requirement already satisfied: opt-einsum>=2.3.2 in /Users/chenyilu/anaconda3/lib/python3.7/site-packages (from pyro-ppl) (3.3.0)\n",
      "Requirement already satisfied: pyro-api>=0.1.1 in /Users/chenyilu/anaconda3/lib/python3.7/site-packages (from pyro-ppl) (0.1.2)\n",
      "Requirement already satisfied: torch>=1.11.0 in /Users/chenyilu/anaconda3/lib/python3.7/site-packages (from pyro-ppl) (1.11.0)\n",
      "Requirement already satisfied: tqdm>=4.36 in /Users/chenyilu/anaconda3/lib/python3.7/site-packages (from pyro-ppl) (4.42.1)\n",
      "Requirement already satisfied: typing_extensions in /Users/chenyilu/anaconda3/lib/python3.7/site-packages (from torch>=1.11.0->pyro-ppl) (4.1.1)\n",
      "\u001b[33mWARNING: You are using pip version 22.0.4; however, version 22.1.2 is available.\n",
      "You should consider upgrading via the '/Users/chenyilu/anaconda3/bin/python -m pip install --upgrade pip' command.\u001b[0m\u001b[33m\n",
      "\u001b[0mNote: you may need to restart the kernel to use updated packages.\n"
     ]
    }
   ],
   "source": [
    "pip install pyro-ppl"
   ]
  },
  {
   "cell_type": "code",
   "execution_count": 47,
   "metadata": {},
   "outputs": [],
   "source": [
    "class NeuralNet(nn.Module):\n",
    "\n",
    "    def __init__(self, input_dimension, output_dimension, n_hidden_layers, neurons):\n",
    "        super(NeuralNet, self).__init__()\n",
    "        # Number of input dimensions n\n",
    "        self.input_dimension = input_dimension\n",
    "        # Number of output dimensions m\n",
    "        self.output_dimension = output_dimension\n",
    "        # Number of neurons or units per layer \n",
    "        self.neurons = neurons\n",
    "        # Number of hidden layers \n",
    "        self.n_hidden_layers = n_hidden_layers\n",
    "        # Activation function \n",
    "        self.activation = nn.Tanh()\n",
    "        \n",
    "        if self.n_hidden_layers != 0:\n",
    "            self.input_layer = nn.Linear(self.input_dimension, self.neurons)\n",
    "            self.hidden_layers = nn.ModuleList([nn.Linear(self.neurons, self.neurons) for _ in range(n_hidden_layers-1)])\n",
    "            self.output_layer = nn.Linear(self.neurons, self.output_dimension)\n",
    "\n",
    "        else:\n",
    "            print(\"Simple linear regression\")\n",
    "            self.linear_regression_layer = nn.Linear(self.input_dimension, self.output_dimension)\n",
    "\n",
    "    def forward(self, x):\n",
    "        # The forward function performs the set of affine and non-linear transformations defining the network \n",
    "        # (see equation above)\n",
    "        if self.n_hidden_layers != 0:\n",
    "            x = self.activation(self.input_layer(x))\n",
    "            for k, l in enumerate(self.hidden_layers):\n",
    "                x = self.activation(l(x))\n",
    "            return self.output_layer(x)\n",
    "        else:\n",
    "            return self.linear_regression_layer(x)\n",
    "\n",
    "def NeuralNet_Seq(input_dimension, output_dimension, n_hidden_layers, neurons):\n",
    "    modules = list()\n",
    "    modules.append(nn.Linear(input_dimension, neurons))\n",
    "    modules.append(nn.Tanh())\n",
    "    for _ in range(n_hidden_layers):\n",
    "        modules.append(nn.Linear(neurons, neurons))\n",
    "        modules.append(nn.Tanh())\n",
    "    modules.append(nn.Linear(neurons, output_dimension))\n",
    "    model =  nn.Sequential(*modules)\n",
    "    return model\n"
   ]
  },
  {
   "cell_type": "code",
   "execution_count": 48,
   "metadata": {},
   "outputs": [],
   "source": [
    "my_network = NeuralNet(input_dimension = 2, output_dimension = 1, n_hidden_layers=2, neurons =20)"
   ]
  },
  {
   "cell_type": "code",
   "execution_count": 49,
   "metadata": {},
   "outputs": [],
   "source": [
    "opt_type = \"ADAM\""
   ]
  },
  {
   "cell_type": "code",
   "execution_count": 50,
   "metadata": {},
   "outputs": [],
   "source": [
    "if opt_type == \"ADAM\":\n",
    "    optimizer_ = optim.Adam(my_network.parameters(), lr=0.0001, weight_decay=0)\n",
    "elif opt_type == \"LBFGS\":\n",
    "    optimizer_ = optim.LBFGS(my_network.parameters(), lr=0.1, max_iter=1, max_eval=50000, tolerance_change=1.0 * np.finfo(float).eps)\n",
    "else:\n",
    "    raise ValueError(\"Optimizer not recognized\")"
   ]
  },
  {
   "cell_type": "code",
   "execution_count": 51,
   "metadata": {},
   "outputs": [],
   "source": [
    "def fit(model, training_set, x_validation_, y_validation_, num_epochs, optimizer, p, verbose=True):\n",
    "    history = [[], []]\n",
    "    \n",
    "    # Loop over epochs\n",
    "    for epoch in range(num_epochs):\n",
    "        if verbose: print(\"################################ \", epoch, \" ################################\")\n",
    "\n",
    "        running_loss = list([0])\n",
    "        \n",
    "        # Loop over batches\n",
    "        for j, (x_train_, u_train_) in enumerate(training_set):\n",
    "            \n",
    "            def closure():\n",
    "                # zero the parameter gradients\n",
    "                optimizer.zero_grad()\n",
    "                # forward + backward + optimize\n",
    "                u_pred_ = model(x_train_)\n",
    "                # Item 1. below\n",
    "                loss = torch.mean(abs(u_pred_.reshape(-1, ) - u_train_.reshape(-1, ))**p)\n",
    "                # Item 2. below\n",
    "                loss.backward()\n",
    "                # Compute average training loss over batches for the current epoch\n",
    "                running_loss[0] += loss.item()/ len(training_set)\n",
    "                return loss\n",
    "            \n",
    "            # Item 3. below\n",
    "            optimizer.step(closure=closure)\n",
    "            \n",
    "        y_validation_pred_ = model(x_validation_)\n",
    "        validation_loss = torch.mean((y_validation_pred_.reshape(-1, ) - y_validation_.reshape(-1, ))**p).item()\n",
    "        history[0].append(running_loss[0])\n",
    "        history[1].append(validation_loss)\n",
    "        \n",
    "        if verbose:\n",
    "            print('Training Loss: ', np.round(running_loss[0],8))\n",
    "            print('Validation Loss: ', np.round(validation_loss,8))\n",
    "            \n",
    "    print('Final Training Loss: ', np.round(history[0][-1],8))\n",
    "    print('Final Validation Loss: ', np.round(history[1][-1],8))\n",
    "    return history"
   ]
  },
  {
   "cell_type": "code",
   "execution_count": 52,
   "metadata": {},
   "outputs": [],
   "source": [
    "data_training.shape[0]\n",
    "validation_size = int(30*data_training.shape[0]/100)\n",
    "training_size = data_training.shape[0] - validation_size\n",
    "\n",
    "x_train = data_training.iloc[:training_size,:2]\n",
    "y_train = data_training.iloc[:training_size,2]\n",
    "\n",
    "x_val = data_training.iloc[training_size:,0:2]\n",
    "y_val = data_training.iloc[training_size:,2]\n",
    "\n",
    "x_val = torch.from_numpy(x_val.values).float()\n",
    "y_val = torch.from_numpy(y_val.values).float()\n",
    "\n",
    "batch_size = 5\n",
    "training_set = DataLoader(torch.utils.data.TensorDataset(torch.from_numpy(x_train.values).float(), torch.from_numpy(y_train.values).float()), batch_size= batch_size, shuffle = True)"
   ]
  },
  {
   "cell_type": "code",
   "execution_count": 53,
   "metadata": {},
   "outputs": [
    {
     "data": {
      "text/plain": [
       "torch.Tensor"
      ]
     },
     "execution_count": 53,
     "metadata": {},
     "output_type": "execute_result"
    }
   ],
   "source": [
    "type(x_val)\n"
   ]
  },
  {
   "cell_type": "code",
   "execution_count": 54,
   "metadata": {},
   "outputs": [
    {
     "name": "stdout",
     "output_type": "stream",
     "text": [
      "Final Training Loss:  0.0268902\n",
      "Final Validation Loss:  0.45463693\n"
     ]
    }
   ],
   "source": [
    "n_epochs= 500\n",
    "history = fit(my_network, training_set, x_val, y_val, n_epochs, optimizer_, p=2, verbose = False)"
   ]
  },
  {
   "cell_type": "code",
   "execution_count": 55,
   "metadata": {},
   "outputs": [],
   "source": [
    "def G(inputs): \n",
    "    pred_mean = my_network(inputs).detach().reshape(-1,1)[0]\n",
    "    return pred_mean"
   ]
  },
  {
   "cell_type": "code",
   "execution_count": 56,
   "metadata": {},
   "outputs": [],
   "source": [
    "mu_prior = 12\n",
    "sigma_prior = 4\n",
    "sigma_likelihood = 0.075\n",
    "\n",
    "def model(t, T):\n",
    "    # Prior is a gaussian distriubtion with mean 0 and standard deviation 0.1\n",
    "    prior_u = dist.Normal(mu_prior, sigma_prior)\n",
    "    u = pyro.sample(\"u\", prior_u)\n",
    "    u = u.expand(t.shape[0], 1)\n",
    "    inputs = torch.cat([t, u], 1)\n",
    "    mean = G(inputs)\n",
    "    # Likelihood is a gaussian distriubtion with mean G(x,w)=wx and standard deviation 0.1\n",
    "    likelihood = dist.Normal(mean, sigma_likelihood)\n",
    "    u_sampled = pyro.sample(\"obs\", likelihood, obs=T)\n"
   ]
  },
  {
   "cell_type": "code",
   "execution_count": 57,
   "metadata": {},
   "outputs": [
    {
     "data": {
      "text/plain": [
       "torch.Tensor"
      ]
     },
     "execution_count": 57,
     "metadata": {},
     "output_type": "execute_result"
    }
   ],
   "source": [
    "measured_data_input=torch.Tensor(data_measurement.iloc[:,0].values.astype(np.float).reshape(-1,1))\n",
    "measured_data_output= torch.Tensor(data_measurement.iloc[:,1].values.astype(np.float).reshape(-1,1))\n",
    "\n",
    "measured_data_input = torch.from_numpy(data_measurement.iloc[:,0].values.reshape(-1,1)).float()\n",
    "measured_data_output = torch.from_numpy(data_measurement.iloc[:,1].values.reshape(-1,1)).float()\n",
    "type(measured_data_input)\n",
    "type(measured_data_output)"
   ]
  },
  {
   "cell_type": "code",
   "execution_count": 58,
   "metadata": {},
   "outputs": [
    {
     "data": {
      "text/plain": [
       "tensor([1.1442])"
      ]
     },
     "execution_count": 58,
     "metadata": {},
     "output_type": "execute_result"
    }
   ],
   "source": [
    "G(torch.cat([measured_data_input, measured_data_output], 1).float())"
   ]
  },
  {
   "cell_type": "code",
   "execution_count": 59,
   "metadata": {},
   "outputs": [
    {
     "name": "stderr",
     "output_type": "stream",
     "text": [
      "Warmup:   0%|          | 0/11000 [00:00, ?it/s]"
     ]
    },
    {
     "ename": "RuntimeError",
     "evalue": "only Tensors of floating point dtype can require gradients",
     "output_type": "error",
     "traceback": [
      "\u001b[0;31m---------------------------------------------------------------------------\u001b[0m",
      "\u001b[0;31mRuntimeError\u001b[0m                              Traceback (most recent call last)",
      "\u001b[0;32m<ipython-input-59-799bcf4feeb3>\u001b[0m in \u001b[0;36m<module>\u001b[0;34m\u001b[0m\n\u001b[1;32m      2\u001b[0m \u001b[0mnuts_kernel\u001b[0m \u001b[0;34m=\u001b[0m \u001b[0mNUTS\u001b[0m\u001b[0;34m(\u001b[0m\u001b[0mmodel\u001b[0m\u001b[0;34m)\u001b[0m\u001b[0;34m\u001b[0m\u001b[0;34m\u001b[0m\u001b[0m\n\u001b[1;32m      3\u001b[0m \u001b[0mposterior\u001b[0m \u001b[0;34m=\u001b[0m \u001b[0mMCMC\u001b[0m\u001b[0;34m(\u001b[0m\u001b[0mnuts_kernel\u001b[0m\u001b[0;34m,\u001b[0m \u001b[0mnum_samples\u001b[0m\u001b[0;34m=\u001b[0m\u001b[0mn_samples\u001b[0m\u001b[0;34m,\u001b[0m \u001b[0mwarmup_steps\u001b[0m\u001b[0;34m=\u001b[0m\u001b[0;36m1000\u001b[0m\u001b[0;34m,\u001b[0m \u001b[0minitial_params\u001b[0m\u001b[0;34m=\u001b[0m\u001b[0;34m{\u001b[0m\u001b[0;34m\"u\"\u001b[0m\u001b[0;34m:\u001b[0m \u001b[0mtorch\u001b[0m\u001b[0;34m.\u001b[0m\u001b[0mtensor\u001b[0m\u001b[0;34m(\u001b[0m\u001b[0mmu_prior\u001b[0m\u001b[0;34m)\u001b[0m\u001b[0;34m}\u001b[0m\u001b[0;34m)\u001b[0m\u001b[0;34m\u001b[0m\u001b[0;34m\u001b[0m\u001b[0m\n\u001b[0;32m----> 4\u001b[0;31m \u001b[0mposterior\u001b[0m\u001b[0;34m.\u001b[0m\u001b[0mrun\u001b[0m\u001b[0;34m(\u001b[0m\u001b[0mmeasured_data_input\u001b[0m\u001b[0;34m,\u001b[0m \u001b[0mmeasured_data_output\u001b[0m\u001b[0;34m)\u001b[0m\u001b[0;34m\u001b[0m\u001b[0;34m\u001b[0m\u001b[0m\n\u001b[0m\u001b[1;32m      5\u001b[0m \u001b[0;31m#hmc_samples = {k: v.detach().cpu().numpy() for k, v in posterior.get_samples().items()}\u001b[0m\u001b[0;34m\u001b[0m\u001b[0;34m\u001b[0m\u001b[0;34m\u001b[0m\u001b[0m\n",
      "\u001b[0;32m~/anaconda3/lib/python3.7/site-packages/pyro/poutine/messenger.py\u001b[0m in \u001b[0;36m_context_wrap\u001b[0;34m(context, fn, *args, **kwargs)\u001b[0m\n\u001b[1;32m     10\u001b[0m \u001b[0;32mdef\u001b[0m \u001b[0m_context_wrap\u001b[0m\u001b[0;34m(\u001b[0m\u001b[0mcontext\u001b[0m\u001b[0;34m,\u001b[0m \u001b[0mfn\u001b[0m\u001b[0;34m,\u001b[0m \u001b[0;34m*\u001b[0m\u001b[0margs\u001b[0m\u001b[0;34m,\u001b[0m \u001b[0;34m**\u001b[0m\u001b[0mkwargs\u001b[0m\u001b[0;34m)\u001b[0m\u001b[0;34m:\u001b[0m\u001b[0;34m\u001b[0m\u001b[0;34m\u001b[0m\u001b[0m\n\u001b[1;32m     11\u001b[0m     \u001b[0;32mwith\u001b[0m \u001b[0mcontext\u001b[0m\u001b[0;34m:\u001b[0m\u001b[0;34m\u001b[0m\u001b[0;34m\u001b[0m\u001b[0m\n\u001b[0;32m---> 12\u001b[0;31m         \u001b[0;32mreturn\u001b[0m \u001b[0mfn\u001b[0m\u001b[0;34m(\u001b[0m\u001b[0;34m*\u001b[0m\u001b[0margs\u001b[0m\u001b[0;34m,\u001b[0m \u001b[0;34m**\u001b[0m\u001b[0mkwargs\u001b[0m\u001b[0;34m)\u001b[0m\u001b[0;34m\u001b[0m\u001b[0;34m\u001b[0m\u001b[0m\n\u001b[0m\u001b[1;32m     13\u001b[0m \u001b[0;34m\u001b[0m\u001b[0m\n\u001b[1;32m     14\u001b[0m \u001b[0;34m\u001b[0m\u001b[0m\n",
      "\u001b[0;32m~/anaconda3/lib/python3.7/site-packages/pyro/infer/mcmc/api.py\u001b[0m in \u001b[0;36mrun\u001b[0;34m(self, *args, **kwargs)\u001b[0m\n\u001b[1;32m    561\u001b[0m             \u001b[0;31m# requires_grad\", which happens with `jit_compile` under PyTorch 1.7\u001b[0m\u001b[0;34m\u001b[0m\u001b[0;34m\u001b[0m\u001b[0;34m\u001b[0m\u001b[0m\n\u001b[1;32m    562\u001b[0m             \u001b[0margs\u001b[0m \u001b[0;34m=\u001b[0m \u001b[0;34m[\u001b[0m\u001b[0marg\u001b[0m\u001b[0;34m.\u001b[0m\u001b[0mdetach\u001b[0m\u001b[0;34m(\u001b[0m\u001b[0;34m)\u001b[0m \u001b[0;32mif\u001b[0m \u001b[0mtorch\u001b[0m\u001b[0;34m.\u001b[0m\u001b[0mis_tensor\u001b[0m\u001b[0;34m(\u001b[0m\u001b[0marg\u001b[0m\u001b[0;34m)\u001b[0m \u001b[0;32melse\u001b[0m \u001b[0marg\u001b[0m \u001b[0;32mfor\u001b[0m \u001b[0marg\u001b[0m \u001b[0;32min\u001b[0m \u001b[0margs\u001b[0m\u001b[0;34m]\u001b[0m\u001b[0;34m\u001b[0m\u001b[0;34m\u001b[0m\u001b[0m\n\u001b[0;32m--> 563\u001b[0;31m             \u001b[0;32mfor\u001b[0m \u001b[0mx\u001b[0m\u001b[0;34m,\u001b[0m \u001b[0mchain_id\u001b[0m \u001b[0;32min\u001b[0m \u001b[0mself\u001b[0m\u001b[0;34m.\u001b[0m\u001b[0msampler\u001b[0m\u001b[0;34m.\u001b[0m\u001b[0mrun\u001b[0m\u001b[0;34m(\u001b[0m\u001b[0;34m*\u001b[0m\u001b[0margs\u001b[0m\u001b[0;34m,\u001b[0m \u001b[0;34m**\u001b[0m\u001b[0mkwargs\u001b[0m\u001b[0;34m)\u001b[0m\u001b[0;34m:\u001b[0m\u001b[0;34m\u001b[0m\u001b[0;34m\u001b[0m\u001b[0m\n\u001b[0m\u001b[1;32m    564\u001b[0m                 \u001b[0;32mif\u001b[0m \u001b[0mnum_samples\u001b[0m\u001b[0;34m[\u001b[0m\u001b[0mchain_id\u001b[0m\u001b[0;34m]\u001b[0m \u001b[0;34m==\u001b[0m \u001b[0;36m0\u001b[0m\u001b[0;34m:\u001b[0m\u001b[0;34m\u001b[0m\u001b[0;34m\u001b[0m\u001b[0m\n\u001b[1;32m    565\u001b[0m                     \u001b[0mnum_samples\u001b[0m\u001b[0;34m[\u001b[0m\u001b[0mchain_id\u001b[0m\u001b[0;34m]\u001b[0m \u001b[0;34m+=\u001b[0m \u001b[0;36m1\u001b[0m\u001b[0;34m\u001b[0m\u001b[0;34m\u001b[0m\u001b[0m\n",
      "\u001b[0;32m~/anaconda3/lib/python3.7/site-packages/pyro/infer/mcmc/api.py\u001b[0m in \u001b[0;36mrun\u001b[0;34m(self, *args, **kwargs)\u001b[0m\n\u001b[1;32m    228\u001b[0m                 \u001b[0mi\u001b[0m \u001b[0;32mif\u001b[0m \u001b[0mself\u001b[0m\u001b[0;34m.\u001b[0m\u001b[0mnum_chains\u001b[0m \u001b[0;34m>\u001b[0m \u001b[0;36m1\u001b[0m \u001b[0;32melse\u001b[0m \u001b[0;32mNone\u001b[0m\u001b[0;34m,\u001b[0m\u001b[0;34m\u001b[0m\u001b[0;34m\u001b[0m\u001b[0m\n\u001b[1;32m    229\u001b[0m                 \u001b[0;34m*\u001b[0m\u001b[0margs\u001b[0m\u001b[0;34m,\u001b[0m\u001b[0;34m\u001b[0m\u001b[0;34m\u001b[0m\u001b[0m\n\u001b[0;32m--> 230\u001b[0;31m                 \u001b[0;34m**\u001b[0m\u001b[0mkwargs\u001b[0m\u001b[0;34m\u001b[0m\u001b[0;34m\u001b[0m\u001b[0m\n\u001b[0m\u001b[1;32m    231\u001b[0m             ):\n\u001b[1;32m    232\u001b[0m                 \u001b[0;32myield\u001b[0m \u001b[0msample\u001b[0m\u001b[0;34m,\u001b[0m \u001b[0mi\u001b[0m  \u001b[0;31m# sample, chain_id\u001b[0m\u001b[0;34m\u001b[0m\u001b[0;34m\u001b[0m\u001b[0m\n",
      "\u001b[0;32m~/anaconda3/lib/python3.7/site-packages/pyro/infer/mcmc/api.py\u001b[0m in \u001b[0;36m_gen_samples\u001b[0;34m(kernel, warmup_steps, num_samples, hook, chain_id, *args, **kwargs)\u001b[0m\n\u001b[1;32m    142\u001b[0m \u001b[0;34m\u001b[0m\u001b[0m\n\u001b[1;32m    143\u001b[0m \u001b[0;32mdef\u001b[0m \u001b[0m_gen_samples\u001b[0m\u001b[0;34m(\u001b[0m\u001b[0mkernel\u001b[0m\u001b[0;34m,\u001b[0m \u001b[0mwarmup_steps\u001b[0m\u001b[0;34m,\u001b[0m \u001b[0mnum_samples\u001b[0m\u001b[0;34m,\u001b[0m \u001b[0mhook\u001b[0m\u001b[0;34m,\u001b[0m \u001b[0mchain_id\u001b[0m\u001b[0;34m,\u001b[0m \u001b[0;34m*\u001b[0m\u001b[0margs\u001b[0m\u001b[0;34m,\u001b[0m \u001b[0;34m**\u001b[0m\u001b[0mkwargs\u001b[0m\u001b[0;34m)\u001b[0m\u001b[0;34m:\u001b[0m\u001b[0;34m\u001b[0m\u001b[0;34m\u001b[0m\u001b[0m\n\u001b[0;32m--> 144\u001b[0;31m     \u001b[0mkernel\u001b[0m\u001b[0;34m.\u001b[0m\u001b[0msetup\u001b[0m\u001b[0;34m(\u001b[0m\u001b[0mwarmup_steps\u001b[0m\u001b[0;34m,\u001b[0m \u001b[0;34m*\u001b[0m\u001b[0margs\u001b[0m\u001b[0;34m,\u001b[0m \u001b[0;34m**\u001b[0m\u001b[0mkwargs\u001b[0m\u001b[0;34m)\u001b[0m\u001b[0;34m\u001b[0m\u001b[0;34m\u001b[0m\u001b[0m\n\u001b[0m\u001b[1;32m    145\u001b[0m     \u001b[0mparams\u001b[0m \u001b[0;34m=\u001b[0m \u001b[0mkernel\u001b[0m\u001b[0;34m.\u001b[0m\u001b[0minitial_params\u001b[0m\u001b[0;34m\u001b[0m\u001b[0;34m\u001b[0m\u001b[0m\n\u001b[1;32m    146\u001b[0m     \u001b[0msave_params\u001b[0m \u001b[0;34m=\u001b[0m \u001b[0mgetattr\u001b[0m\u001b[0;34m(\u001b[0m\u001b[0mkernel\u001b[0m\u001b[0;34m,\u001b[0m \u001b[0;34m\"save_params\"\u001b[0m\u001b[0;34m,\u001b[0m \u001b[0msorted\u001b[0m\u001b[0;34m(\u001b[0m\u001b[0mparams\u001b[0m\u001b[0;34m)\u001b[0m\u001b[0;34m)\u001b[0m\u001b[0;34m\u001b[0m\u001b[0;34m\u001b[0m\u001b[0m\n",
      "\u001b[0;32m~/anaconda3/lib/python3.7/site-packages/pyro/infer/mcmc/hmc.py\u001b[0m in \u001b[0;36msetup\u001b[0;34m(self, warmup_steps, *args, **kwargs)\u001b[0m\n\u001b[1;32m    326\u001b[0m         \u001b[0;32mif\u001b[0m \u001b[0mself\u001b[0m\u001b[0;34m.\u001b[0m\u001b[0minitial_params\u001b[0m\u001b[0;34m:\u001b[0m\u001b[0;34m\u001b[0m\u001b[0;34m\u001b[0m\u001b[0m\n\u001b[1;32m    327\u001b[0m             \u001b[0mz\u001b[0m \u001b[0;34m=\u001b[0m \u001b[0;34m{\u001b[0m\u001b[0mk\u001b[0m\u001b[0;34m:\u001b[0m \u001b[0mv\u001b[0m\u001b[0;34m.\u001b[0m\u001b[0mdetach\u001b[0m\u001b[0;34m(\u001b[0m\u001b[0;34m)\u001b[0m \u001b[0;32mfor\u001b[0m \u001b[0mk\u001b[0m\u001b[0;34m,\u001b[0m \u001b[0mv\u001b[0m \u001b[0;32min\u001b[0m \u001b[0mself\u001b[0m\u001b[0;34m.\u001b[0m\u001b[0minitial_params\u001b[0m\u001b[0;34m.\u001b[0m\u001b[0mitems\u001b[0m\u001b[0;34m(\u001b[0m\u001b[0;34m)\u001b[0m\u001b[0;34m}\u001b[0m\u001b[0;34m\u001b[0m\u001b[0;34m\u001b[0m\u001b[0m\n\u001b[0;32m--> 328\u001b[0;31m             \u001b[0mz_grads\u001b[0m\u001b[0;34m,\u001b[0m \u001b[0mpotential_energy\u001b[0m \u001b[0;34m=\u001b[0m \u001b[0mpotential_grad\u001b[0m\u001b[0;34m(\u001b[0m\u001b[0mself\u001b[0m\u001b[0;34m.\u001b[0m\u001b[0mpotential_fn\u001b[0m\u001b[0;34m,\u001b[0m \u001b[0mz\u001b[0m\u001b[0;34m)\u001b[0m\u001b[0;34m\u001b[0m\u001b[0;34m\u001b[0m\u001b[0m\n\u001b[0m\u001b[1;32m    329\u001b[0m         \u001b[0;32melse\u001b[0m\u001b[0;34m:\u001b[0m\u001b[0;34m\u001b[0m\u001b[0;34m\u001b[0m\u001b[0m\n\u001b[1;32m    330\u001b[0m             \u001b[0mz_grads\u001b[0m\u001b[0;34m,\u001b[0m \u001b[0mpotential_energy\u001b[0m \u001b[0;34m=\u001b[0m \u001b[0;34m{\u001b[0m\u001b[0;34m}\u001b[0m\u001b[0;34m,\u001b[0m \u001b[0mself\u001b[0m\u001b[0;34m.\u001b[0m\u001b[0mpotential_fn\u001b[0m\u001b[0;34m(\u001b[0m\u001b[0mself\u001b[0m\u001b[0;34m.\u001b[0m\u001b[0minitial_params\u001b[0m\u001b[0;34m)\u001b[0m\u001b[0;34m\u001b[0m\u001b[0;34m\u001b[0m\u001b[0m\n",
      "\u001b[0;32m~/anaconda3/lib/python3.7/site-packages/pyro/ops/integrator.py\u001b[0m in \u001b[0;36mpotential_grad\u001b[0;34m(potential_fn, z)\u001b[0m\n\u001b[1;32m     72\u001b[0m     \u001b[0mz_keys\u001b[0m\u001b[0;34m,\u001b[0m \u001b[0mz_nodes\u001b[0m \u001b[0;34m=\u001b[0m \u001b[0mzip\u001b[0m\u001b[0;34m(\u001b[0m\u001b[0;34m*\u001b[0m\u001b[0mz\u001b[0m\u001b[0;34m.\u001b[0m\u001b[0mitems\u001b[0m\u001b[0;34m(\u001b[0m\u001b[0;34m)\u001b[0m\u001b[0;34m)\u001b[0m\u001b[0;34m\u001b[0m\u001b[0;34m\u001b[0m\u001b[0m\n\u001b[1;32m     73\u001b[0m     \u001b[0;32mfor\u001b[0m \u001b[0mnode\u001b[0m \u001b[0;32min\u001b[0m \u001b[0mz_nodes\u001b[0m\u001b[0;34m:\u001b[0m\u001b[0;34m\u001b[0m\u001b[0;34m\u001b[0m\u001b[0m\n\u001b[0;32m---> 74\u001b[0;31m         \u001b[0mnode\u001b[0m\u001b[0;34m.\u001b[0m\u001b[0mrequires_grad_\u001b[0m\u001b[0;34m(\u001b[0m\u001b[0;32mTrue\u001b[0m\u001b[0;34m)\u001b[0m\u001b[0;34m\u001b[0m\u001b[0;34m\u001b[0m\u001b[0m\n\u001b[0m\u001b[1;32m     75\u001b[0m     \u001b[0;32mtry\u001b[0m\u001b[0;34m:\u001b[0m\u001b[0;34m\u001b[0m\u001b[0;34m\u001b[0m\u001b[0m\n\u001b[1;32m     76\u001b[0m         \u001b[0mpotential_energy\u001b[0m \u001b[0;34m=\u001b[0m \u001b[0mpotential_fn\u001b[0m\u001b[0;34m(\u001b[0m\u001b[0mz\u001b[0m\u001b[0;34m)\u001b[0m\u001b[0;34m\u001b[0m\u001b[0;34m\u001b[0m\u001b[0m\n",
      "\u001b[0;31mRuntimeError\u001b[0m: only Tensors of floating point dtype can require gradients"
     ]
    }
   ],
   "source": [
    "n_samples = 10000\n",
    "nuts_kernel = NUTS(model)\n",
    "posterior = MCMC(nuts_kernel, num_samples=n_samples, warmup_steps=1000, initial_params={\"u\": torch.tensor(mu_prior)})\n",
    "posterior.run(measured_data_input, measured_data_output)\n",
    "#hmc_samples = {k: v.detach().cpu().numpy() for k, v in posterior.get_samples().items()}"
   ]
  },
  {
   "cell_type": "code",
   "execution_count": null,
   "metadata": {},
   "outputs": [],
   "source": []
  }
 ],
 "metadata": {
  "interpreter": {
   "hash": "d45e3420a69f6e52501e625503ae7753ddf24c0c5b188d366e609fe0cafaf1f5"
  },
  "kernelspec": {
   "display_name": "Python 3.7.1 ('base')",
   "language": "python",
   "name": "python3"
  },
  "language_info": {
   "codemirror_mode": {
    "name": "ipython",
    "version": 3
   },
   "file_extension": ".py",
   "mimetype": "text/x-python",
   "name": "python",
   "nbconvert_exporter": "python",
   "pygments_lexer": "ipython3",
   "version": "3.7.1"
  },
  "orig_nbformat": 4
 },
 "nbformat": 4,
 "nbformat_minor": 2
}
