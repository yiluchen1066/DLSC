{
 "cells": [
  {
   "cell_type": "code",
   "execution_count": 1,
   "metadata": {},
   "outputs": [
    {
     "name": "stderr",
     "output_type": "stream",
     "text": [
      "\n",
      "Bad key \"text.kerning_factor\" on line 4 in\n",
      "/Users/chenyilu/anaconda3/lib/python3.7/site-packages/matplotlib/mpl-data/stylelib/_classic_test_patch.mplstyle.\n",
      "You probably need to get an updated matplotlibrc file from\n",
      "https://github.com/matplotlib/matplotlib/blob/v3.1.3/matplotlibrc.template\n",
      "or from the matplotlib source distribution\n"
     ]
    }
   ],
   "source": [
    "import torch.nn as nn\n",
    "import torch.optim as optim\n",
    "import torch.utils\n",
    "import torch.utils.data\n",
    "from torch.utils.data import DataLoader\n",
    "import matplotlib.pyplot as plt\n",
    "import numpy as np"
   ]
  },
  {
   "cell_type": "code",
   "execution_count": 2,
   "metadata": {},
   "outputs": [],
   "source": [
    "torch.manual_seed(42)\n",
    "np.random.seed(42)"
   ]
  },
  {
   "cell_type": "code",
   "execution_count": 3,
   "metadata": {},
   "outputs": [],
   "source": [
    "class NeuralNet(nn.Module):\n",
    "\n",
    "    def __init__(self, input_dimension, output_dimension, n_hidden_layers, neurons):\n",
    "        super(NeuralNet, self).__init__()\n",
    "        # Number of input dimensions n\n",
    "        self.input_dimension = input_dimension\n",
    "        # Number of output dimensions m\n",
    "        self.output_dimension = output_dimension\n",
    "        # Number of neurons or units per layer \n",
    "        self.neurons = neurons\n",
    "        # Number of hidden layers \n",
    "        self.n_hidden_layers = n_hidden_layers\n",
    "        # Activation function \n",
    "        self.activation = nn.Tanh()\n",
    "        \n",
    "        if self.n_hidden_layers != 0:\n",
    "            self.input_layer = nn.Linear(self.input_dimension, self.neurons)\n",
    "            self.hidden_layers = nn.ModuleList([nn.Linear(self.neurons, self.neurons) for _ in range(n_hidden_layers-1)])\n",
    "            self.output_layer = nn.Linear(self.neurons, self.output_dimension)\n",
    "\n",
    "        else:\n",
    "            print(\"Simple linear regression\")\n",
    "            self.linear_regression_layer = nn.Linear(self.input_dimension, self.output_dimension)\n",
    "\n",
    "    def forward(self, x):\n",
    "        # The forward function performs the set of affine and non-linear transformations defining the network \n",
    "        # (see equation above)\n",
    "        if self.n_hidden_layers != 0:\n",
    "            x = self.activation(self.input_layer(x))\n",
    "            for k, l in enumerate(self.hidden_layers):\n",
    "                x = self.activation(l(x))\n",
    "            return self.output_layer(x)\n",
    "        else:\n",
    "            return self.linear_regression_layer(x)\n",
    "\n",
    "def NeuralNet_Seq(input_dimension, output_dimension, n_hidden_layers, neurons):\n",
    "    modules = list()\n",
    "    modules.append(nn.Linear(input_dimension, neurons))\n",
    "    modules.append(nn.Tanh())\n",
    "    for _ in range(n_hidden_layers):\n",
    "        modules.append(nn.Linear(neurons, neurons))\n",
    "        modules.append(nn.Tanh())\n",
    "    modules.append(nn.Linear(neurons, output_dimension))\n",
    "    model =  nn.Sequential(*modules)\n",
    "    return model"
   ]
  },
  {
   "cell_type": "code",
   "execution_count": 4,
   "metadata": {},
   "outputs": [],
   "source": [
    "import pandas as pd\n"
   ]
  },
  {
   "cell_type": "code",
   "execution_count": 5,
   "metadata": {},
   "outputs": [],
   "source": [
    "data_training = pd.read_csv('TrainingData.txt',sep=',')\n",
    "data_training = pd.DataFrame(data_training)"
   ]
  },
  {
   "cell_type": "code",
   "execution_count": 18,
   "metadata": {},
   "outputs": [
    {
     "name": "stdout",
     "output_type": "stream",
     "text": [
      "              t         tf0         ts0\n",
      "0    434899.530  876.974173  828.562584\n",
      "1     23679.240  870.620300  874.848335\n",
      "2    148408.260  686.885794  713.742917\n",
      "3    329416.776  696.214946  708.247312\n",
      "4    310693.656  854.880869  850.372015\n",
      "..          ...         ...         ...\n",
      "260  311464.608  846.538871  854.920779\n",
      "261  211433.586  882.217277  871.195957\n",
      "262  225999.072  838.335416  848.470132\n",
      "263  511829.526  732.883182  727.348784\n",
      "264  295054.344  862.968010  878.258383\n",
      "\n",
      "[265 rows x 3 columns]\n"
     ]
    }
   ],
   "source": [
    "print(data_training)"
   ]
  },
  {
   "cell_type": "code",
   "execution_count": 6,
   "metadata": {},
   "outputs": [
    {
     "data": {
      "image/png": "[encoded data removed]",
      "text/plain": [
       "<Figure size 432x288 with 1 Axes>"
      ]
     },
     "metadata": {
      "needs_background": "light"
     },
     "output_type": "display_data"
    }
   ],
   "source": [
    "t = data_training[\"t\"]\n",
    "tf0 = data_training[\"tf0\"]\n",
    "ts0 = data_training[\"ts0\"]\n",
    "plt.scatter(t, tf0, c=\"blue\" )\n",
    "plt.scatter(t, ts0, c=\"orange\")\n",
    "plt.show()"
   ]
  },
  {
   "cell_type": "code",
   "execution_count": 7,
   "metadata": {},
   "outputs": [],
   "source": [
    "#model definition \n",
    "my_network = NeuralNet(input_dimension=1, output_dimension=1, n_hidden_layers=2, neurons=20)\n"
   ]
  },
  {
   "cell_type": "code",
   "execution_count": 60,
   "metadata": {},
   "outputs": [],
   "source": [
    "#weight initialization  \n",
    "def init_xavier(model, retrain_seed):\n",
    "    torch.manual_seed(retrain_seed)\n",
    "    def init_weights(m):\n",
    "        if type(m) == nn.Linear and m.weight.requires_grad and m.bias.requires_grad:\n",
    "            g = nn.init.calculate_gain('tanh')\n",
    "            torch.nn.init.xavier_uniform_(m.weight, gain=g)\n",
    "            #torch.nn.init.xavier_normal_(m.weight, gain=g)\n",
    "            m.bias.data.fill_(0)\n",
    "    model.apply(init_weights)\n",
    "\n",
    "# Random Seed for weight initialization\n",
    "retrain = 1456\n",
    "# Xavier weight initialization\n",
    "init_xavier(my_network, retrain)"
   ]
  },
  {
   "cell_type": "code",
   "execution_count": 2,
   "metadata": {},
   "outputs": [
    {
     "ename": "NameError",
     "evalue": "name 'optim' is not defined",
     "output_type": "error",
     "traceback": [
      "\u001b[0;31m---------------------------------------------------------------------------\u001b[0m",
      "\u001b[0;31mNameError\u001b[0m                                 Traceback (most recent call last)",
      "\u001b[0;32m<ipython-input-2-1e805afd9d98>\u001b[0m in \u001b[0;36m<module>\u001b[0;34m\u001b[0m\n\u001b[1;32m      2\u001b[0m \u001b[0mopt_type\u001b[0m \u001b[0;34m=\u001b[0m \u001b[0;34m\"ADAM\"\u001b[0m\u001b[0;34m\u001b[0m\u001b[0;34m\u001b[0m\u001b[0m\n\u001b[1;32m      3\u001b[0m \u001b[0;32mif\u001b[0m \u001b[0mopt_type\u001b[0m \u001b[0;34m==\u001b[0m \u001b[0;34m\"ADAM\"\u001b[0m\u001b[0;34m:\u001b[0m\u001b[0;34m\u001b[0m\u001b[0;34m\u001b[0m\u001b[0m\n\u001b[0;32m----> 4\u001b[0;31m     \u001b[0moptimizer_\u001b[0m \u001b[0;34m=\u001b[0m \u001b[0moptim\u001b[0m\u001b[0;34m.\u001b[0m\u001b[0mAdam\u001b[0m\u001b[0;34m(\u001b[0m\u001b[0mmy_network\u001b[0m\u001b[0;34m.\u001b[0m\u001b[0mparameters\u001b[0m\u001b[0;34m(\u001b[0m\u001b[0;34m)\u001b[0m\u001b[0;34m,\u001b[0m \u001b[0mlr\u001b[0m\u001b[0;34m=\u001b[0m\u001b[0;36m0.001\u001b[0m\u001b[0;34m)\u001b[0m\u001b[0;34m\u001b[0m\u001b[0;34m\u001b[0m\u001b[0m\n\u001b[0m\u001b[1;32m      5\u001b[0m \u001b[0;32melif\u001b[0m \u001b[0mopt_type\u001b[0m \u001b[0;34m==\u001b[0m \u001b[0;34m\"LBFGS\"\u001b[0m\u001b[0;34m:\u001b[0m\u001b[0;34m\u001b[0m\u001b[0;34m\u001b[0m\u001b[0m\n\u001b[1;32m      6\u001b[0m     \u001b[0moptimizer_\u001b[0m \u001b[0;34m=\u001b[0m \u001b[0moptim\u001b[0m\u001b[0;34m.\u001b[0m\u001b[0mLBFGS\u001b[0m\u001b[0;34m(\u001b[0m\u001b[0mmy_network\u001b[0m\u001b[0;34m.\u001b[0m\u001b[0mparameters\u001b[0m\u001b[0;34m(\u001b[0m\u001b[0;34m)\u001b[0m\u001b[0;34m,\u001b[0m \u001b[0mlr\u001b[0m\u001b[0;34m=\u001b[0m\u001b[0;36m0.1\u001b[0m\u001b[0;34m,\u001b[0m \u001b[0mmax_iter\u001b[0m\u001b[0;34m=\u001b[0m\u001b[0;36m1\u001b[0m\u001b[0;34m,\u001b[0m \u001b[0mmax_eval\u001b[0m\u001b[0;34m=\u001b[0m\u001b[0;36m50000\u001b[0m\u001b[0;34m,\u001b[0m \u001b[0mtolerance_change\u001b[0m\u001b[0;34m=\u001b[0m\u001b[0;36m1.0\u001b[0m \u001b[0;34m*\u001b[0m \u001b[0mnp\u001b[0m\u001b[0;34m.\u001b[0m\u001b[0mfinfo\u001b[0m\u001b[0;34m(\u001b[0m\u001b[0mfloat\u001b[0m\u001b[0;34m)\u001b[0m\u001b[0;34m.\u001b[0m\u001b[0meps\u001b[0m\u001b[0;34m)\u001b[0m\u001b[0;34m\u001b[0m\u001b[0;34m\u001b[0m\u001b[0m\n",
      "\u001b[0;31mNameError\u001b[0m: name 'optim' is not defined"
     ]
    }
   ],
   "source": [
    "#optimzer\n",
    "opt_type = \"ADAM\"\n",
    "if opt_type == \"ADAM\":\n",
    "    optimizer_ = optim.Adam(my_network.parameters(), lr=0.001)\n",
    "elif opt_type == \"LBFGS\":\n",
    "    optimizer_ = optim.LBFGS(my_network.parameters(), lr=0.1, max_iter=1, max_eval=50000, tolerance_change=1.0 * np.finfo(float).eps)\n",
    "else:\n",
    "    raise ValueError(\"Optimizer not recognized\")"
   ]
  },
  {
   "cell_type": "code",
   "execution_count": 62,
   "metadata": {},
   "outputs": [],
   "source": [
    "def fit(model, training_set, num_epochs, optimizer, p, verbose=True):\n",
    "    history = list()\n",
    "    \n",
    "    # Loop over epochs\n",
    "    for epoch in range(num_epochs):\n",
    "        if verbose: print(\"################################ \", epoch, \" ################################\")\n",
    "\n",
    "        running_loss = list([0])\n",
    "        \n",
    "        # Loop over batches\n",
    "        for j, (x_train_, u_train_) in enumerate(training_set):  \n",
    "            \n",
    "            def closure():\n",
    "                \n",
    "                # zero the parameter gradients\n",
    "                optimizer.zero_grad()\n",
    "                # forward + backward + optimize\n",
    "                u_pred_ = model(x_train_)\n",
    "                # Item 1. above\n",
    "                loss = torch.mean((u_pred_.reshape(-1, ) - u_train_.reshape(-1, ))**p)\n",
    "                # Item 2. above\n",
    "                loss.backward()\n",
    "                # Compute average training loss over batches for the current epoch\n",
    "                running_loss[0] += loss.item()\n",
    "                #for param in model.parameters():\n",
    "                #    print(param.shape)\n",
    "                #    print(param.grad)\n",
    "                return loss\n",
    "            \n",
    "            # Item 3. above\n",
    "            optimizer.step(closure=closure)\n",
    "            \n",
    "        if verbose: print('Loss: ', (running_loss[0] / len(training_set)))\n",
    "        history.append(running_loss[0])\n",
    "\n",
    "    return history"
   ]
  },
  {
   "cell_type": "code",
   "execution_count": 76,
   "metadata": {},
   "outputs": [],
   "source": [
    "t_list = t.tolist()\n",
    "t_arr = np.array(t_list) \n",
    "t_tensor = torch.from_numpy(t_arr.reshape(-1,1)).float()\n",
    "tf0_list = tf0.tolist()\n",
    "tf0_arr = np.array(tf0_list) \n",
    "tf0_tensor = torch.from_numpy(tf0_arr.reshape(-1,1)).float()\n",
    "batch_size = 5\n",
    "training_set = DataLoader(torch.utils.data.TensorDataset(t_tensor, tf0_tensor), batch_size= batch_size, shuffle = True)\n"
   ]
  },
  {
   "cell_type": "code",
   "execution_count": 75,
   "metadata": {},
   "outputs": [
    {
     "data": {
      "text/plain": [
       "tensor([[434899.5312],\n",
       "        [ 23679.2402],\n",
       "        [148408.2656],\n",
       "        [329416.7812],\n",
       "        [310693.6562],\n",
       "        [172500.5156],\n",
       "        [463947.9062],\n",
       "        [121865.4844],\n",
       "        [397122.8750],\n",
       "        [312868.8438],\n",
       "        [441177.2812],\n",
       "        [229137.9531],\n",
       "        [ 46394.7891],\n",
       "        [ 21173.6465],\n",
       "        [ 66990.2188],\n",
       "        [146233.0781],\n",
       "        [139074.2344],\n",
       "        [176768.2812],\n",
       "        [483717.3125],\n",
       "        [176107.4688],\n",
       "        [238609.6406],\n",
       "        [507479.1562],\n",
       "        [ 75635.8984],\n",
       "        [  5203.9258],\n",
       "        [ 82739.6719],\n",
       "        [ 52287.0664],\n",
       "        [ 34885.5781],\n",
       "        [493189.0000],\n",
       "        [313722.4062],\n",
       "        [ 97910.9062],\n",
       "        [107107.2578],\n",
       "        [243345.4844],\n",
       "        [399298.0625],\n",
       "        [292603.8125],\n",
       "        [242078.9219],\n",
       "        [290621.3750],\n",
       "        [282306.0938],\n",
       "        [232194.2188],\n",
       "        [281755.4375],\n",
       "        [303314.5312],\n",
       "        [ 71918.8047],\n",
       "        [434679.2500],\n",
       "        [472455.9062],\n",
       "        [336080.0000],\n",
       "        [226494.6875],\n",
       "        [400371.9062],\n",
       "        [ 86787.1719],\n",
       "        [ 43641.3906],\n",
       "        [108566.5625],\n",
       "        [ 28112.2148],\n",
       "        [320853.6875],\n",
       "        [297504.8750],\n",
       "        [369423.6875],\n",
       "        [219969.1250],\n",
       "        [266859.5312],\n",
       "        [357666.6562],\n",
       "        [189241.1875],\n",
       "        [156255.4531],\n",
       "        [  4432.9741],\n",
       "        [118313.6016],\n",
       "        [ 27396.3301],\n",
       "        [317577.1562],\n",
       "        [210056.8906],\n",
       "        [ 27974.5449],\n",
       "        [234837.4844],\n",
       "        [475291.9062],\n",
       "        [255185.1094],\n",
       "        [335501.7812],\n",
       "        [174317.7500],\n",
       "        [235993.9062],\n",
       "        [198465.0781],\n",
       "        [145269.3906],\n",
       "        [507892.1562],\n",
       "        [452879.2188],\n",
       "        [446491.3438],\n",
       "        [220437.2031],\n",
       "        [ 70707.3125],\n",
       "        [ 55811.4180],\n",
       "        [ 74204.1328],\n",
       "        [424629.3438],\n",
       "        [144773.7656],\n",
       "        [185469.0312],\n",
       "        [ 10765.7939],\n",
       "        [385090.5312],\n",
       "        [348745.6562],\n",
       "        [162230.3281],\n",
       "        [ 98048.5703],\n",
       "        [170270.2500],\n",
       "        [231065.3281],\n",
       "        [359786.7812],\n",
       "        [420306.5000],\n",
       "        [ 67568.4375],\n",
       "        [325919.9688],\n",
       "        [386549.8125],\n",
       "        [301910.3125],\n",
       "        [268786.9062],\n",
       "        [139211.9062],\n",
       "        [411578.2188],\n",
       "        [223300.7344],\n",
       "        [379225.7812],\n",
       "        [479422.0000],\n",
       "        [ 13822.0684],\n",
       "        [190259.9375],\n",
       "        [349268.7812],\n",
       "        [  5672.0039],\n",
       "        [491977.5000],\n",
       "        [438726.7500],\n",
       "        [474878.9062],\n",
       "        [241060.1719],\n",
       "        [340953.5312],\n",
       "        [499494.2812],\n",
       "        [408053.8750],\n",
       "        [208542.5156],\n",
       "        [175501.7188],\n",
       "        [ 46202.0508],\n",
       "        [ 29158.5059],\n",
       "        [445995.7188],\n",
       "        [272972.0625],\n",
       "        [297835.2812],\n",
       "        [300698.8125],\n",
       "        [269530.3125],\n",
       "        [449134.5938],\n",
       "        [309812.5625],\n",
       "        [ 74149.0625],\n",
       "        [383576.1562],\n",
       "        [ 99865.8203],\n",
       "        [444866.8438],\n",
       "        [280103.3750],\n",
       "        [496906.0938],\n",
       "        [281672.8125],\n",
       "        [432476.5312],\n",
       "        [316475.7812],\n",
       "        [ 35959.4023],\n",
       "        [186570.3906],\n",
       "        [260857.1094],\n",
       "        [207220.8906],\n",
       "        [152263.0156],\n",
       "        [103197.4297],\n",
       "        [372948.0312],\n",
       "        [ 18255.0430],\n",
       "        [ 55012.9336],\n",
       "        [220106.7969],\n",
       "        [492280.3750],\n",
       "        [ 90972.3359],\n",
       "        [502137.5625],\n",
       "        [380189.4688],\n",
       "        [181311.3906],\n",
       "        [486663.4375],\n",
       "        [320743.5625],\n",
       "        [ 45045.6250],\n",
       "        [470335.7812],\n",
       "        [130428.5547],\n",
       "        [400757.3750],\n",
       "        [382089.3125],\n",
       "        [ 23514.0352],\n",
       "        [161211.5625],\n",
       "        [203531.3281],\n",
       "        [384071.7812],\n",
       "        [498117.5938],\n",
       "        [159449.3906],\n",
       "        [135770.1562],\n",
       "        [  5561.8682],\n",
       "        [315181.6875],\n",
       "        [349351.4062],\n",
       "        [120846.7266],\n",
       "        [ 64071.6172],\n",
       "        [220382.1406],\n",
       "        [214131.9219],\n",
       "        [  5424.1982],\n",
       "        [ 53140.6211],\n",
       "        [324185.3125],\n",
       "        [415405.4688],\n",
       "        [257140.0312],\n",
       "        [319091.5312],\n",
       "        [432504.0625],\n",
       "        [469261.9688],\n",
       "        [ 77398.0703],\n",
       "        [392166.7500],\n",
       "        [180237.5625],\n",
       "        [ 54682.5234],\n",
       "        [229578.4844],\n",
       "        [314190.4688],\n",
       "        [ 80151.4766],\n",
       "        [ 47743.9570],\n",
       "        [501862.2188],\n",
       "        [238995.1250],\n",
       "        [505056.1562],\n",
       "        [158568.3125],\n",
       "        [ 65668.5938],\n",
       "        [305930.2812],\n",
       "        [130401.0234],\n",
       "        [ 49616.2695],\n",
       "        [224539.7656],\n",
       "        [223576.0781],\n",
       "        [182164.9375],\n",
       "        [392552.2500],\n",
       "        [398857.5312],\n",
       "        [458330.9688],\n",
       "        [387541.0625],\n",
       "        [253533.0781],\n",
       "        [450759.1250],\n",
       "        [325864.8750],\n",
       "        [362567.7188],\n",
       "        [ 56417.1641],\n",
       "        [149316.8750],\n",
       "        [401693.5312],\n",
       "        [197088.3750],\n",
       "        [282168.4375],\n",
       "        [203751.5938],\n",
       "        [271870.7188],\n",
       "        [417167.6250],\n",
       "        [513206.2188],\n",
       "        [ 31774.2363],\n",
       "        [123875.4688],\n",
       "        [173326.5312],\n",
       "        [335446.7188],\n",
       "        [354472.7188],\n",
       "        [496493.0938],\n",
       "        [152510.8281],\n",
       "        [265345.1562],\n",
       "        [429144.9375],\n",
       "        [ 70404.4375],\n",
       "        [153970.1250],\n",
       "        [453815.3750],\n",
       "        [ 60574.8008],\n",
       "        [390211.8438],\n",
       "        [ 81528.1719],\n",
       "        [391175.5312],\n",
       "        [329554.4375],\n",
       "        [ 78995.0469],\n",
       "        [477439.5625],\n",
       "        [385255.7188],\n",
       "        [156916.2656],\n",
       "        [109778.0547],\n",
       "        [370222.1562],\n",
       "        [ 33536.4102],\n",
       "        [130373.4922],\n",
       "        [311024.0625],\n",
       "        [125417.3672],\n",
       "        [251825.9688],\n",
       "        [221648.7031],\n",
       "        [351251.2500],\n",
       "        [479890.0938],\n",
       "        [189791.8594],\n",
       "        [497732.1250],\n",
       "        [395746.1875],\n",
       "        [401032.7188],\n",
       "        [ 94606.8203],\n",
       "        [241032.6406],\n",
       "        [293980.5312],\n",
       "        [162312.9375],\n",
       "        [457312.2188],\n",
       "        [430521.6250],\n",
       "        [193343.7500],\n",
       "        [251963.6406],\n",
       "        [154190.4062],\n",
       "        [220161.8594],\n",
       "        [247998.7344],\n",
       "        [356455.1562],\n",
       "        [127812.8281],\n",
       "        [311464.5938],\n",
       "        [211433.5938],\n",
       "        [225999.0781],\n",
       "        [511829.5312],\n",
       "        [295054.3438]])"
      ]
     },
     "execution_count": 75,
     "metadata": {},
     "output_type": "execute_result"
    }
   ],
   "source": [
    "t_tensor"
   ]
  },
  {
   "cell_type": "code",
   "execution_count": 77,
   "metadata": {},
   "outputs": [],
   "source": [
    "n_epochs = 2000\n",
    "tf0 = fit(my_network, training_set, n_epochs, optimizer_, p=2, verbose=False )"
   ]
  },
  {
   "cell_type": "code",
   "execution_count": 78,
   "metadata": {},
   "outputs": [
    {
     "data": {
      "text/plain": [
       "<matplotlib.legend.Legend at 0x139fcdc70>"
      ]
     },
     "execution_count": 78,
     "metadata": {},
     "output_type": "execute_result"
    },
    {
     "data": {
      "image/png": "[encoded data removed]",
      "text/plain": [
       "<Figure size 432x288 with 1 Axes>"
      ]
     },
     "metadata": {
      "needs_background": "light"
     },
     "output_type": "display_data"
    }
   ],
   "source": [
    "plt.grid(True, which=\"both\", ls=\":\")\n",
    "plt.plot(np.arange(1,n_epochs+1), np.log10(tf0), label=\"Train Loss\")\n",
    "plt.legend()"
   ]
  },
  {
   "cell_type": "code",
   "execution_count": 79,
   "metadata": {},
   "outputs": [],
   "source": [
    "data_testing = pd.read_csv('TestingData.txt',sep=',')\n",
    "data_testing = pd.DataFrame(data_testing)"
   ]
  },
  {
   "cell_type": "code",
   "execution_count": 82,
   "metadata": {},
   "outputs": [],
   "source": [
    "t_test = data_testing[\"t\"]\n",
    "\n",
    "t_test_list = t_test.tolist()\n",
    "t_test_arr = np.array(t_test_list) \n",
    "t_test_tensor = torch.from_numpy(t_test_arr.reshape(-1,1)).float()\n",
    "\n",
    "\n"
   ]
  },
  {
   "cell_type": "code",
   "execution_count": 92,
   "metadata": {},
   "outputs": [
    {
     "name": "stdout",
     "output_type": "stream",
     "text": [
      "<class 'torch.Tensor'>\n",
      "<class 'numpy.ndarray'>\n"
     ]
    }
   ],
   "source": [
    "tf0_test_pred_tensor = my_network(t_test_tensor).reshape(-1,)\n",
    "print(type(tf0_test_pred_tensor))\n",
    "tf0_test_pred = tf0_test_pred_tensor.detach().numpy()\n",
    "print(type(tf0_test_pred))\n",
    "\n"
   ]
  },
  {
   "cell_type": "code",
   "execution_count": 93,
   "metadata": {},
   "outputs": [
    {
     "data": {
      "text/plain": [
       "<matplotlib.legend.Legend at 0x13db6dee0>"
      ]
     },
     "execution_count": 93,
     "metadata": {},
     "output_type": "execute_result"
    },
    {
     "data": {
      "image/png": "[encoded data removed]",
      "text/plain": [
       "<Figure size 432x288 with 1 Axes>"
      ]
     },
     "metadata": {
      "needs_background": "light"
     },
     "output_type": "display_data"
    }
   ],
   "source": [
    "\n",
    "plt.grid(True, which=\"both\", ls=\":\")\n",
    "plt.scatter(t_test, tf0_test_pred, label=\"Training Data\", marker=\"o\", color=\"grey\")\n",
    "plt.xlabel(\"t_test\")\n",
    "plt.ylabel(\"tf0_test\")\n",
    "plt.legend()"
   ]
  },
  {
   "cell_type": "code",
   "execution_count": null,
   "metadata": {},
   "outputs": [],
   "source": []
  }
 ],
 "metadata": {
  "interpreter": {
   "hash": "31f2aee4e71d21fbe5cf8b01ff0e069b9275f58929596ceb00d14d90e3e16cd6"
  },
  "kernelspec": {
   "display_name": "Python 3.8.9 64-bit",
   "language": "python",
   "name": "python3"
  },
  "language_info": {
   "codemirror_mode": {
    "name": "ipython",
    "version": 3
   },
   "file_extension": ".py",
   "mimetype": "text/x-python",
   "name": "python",
   "nbconvert_exporter": "python",
   "pygments_lexer": "ipython3",
   "version": "3.7.1"
  },
  "orig_nbformat": 4
 },
 "nbformat": 4,
 "nbformat_minor": 2
}
